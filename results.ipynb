{
 "cells": [
  {
   "cell_type": "code",
   "execution_count": 1,
   "metadata": {},
   "outputs": [],
   "source": [
    "import pandas as pd\n",
    "import numpy as np\n",
    "import json\n",
    "import operator\n",
    "import itertools \n",
    "import matplotlib.pyplot as plt\n",
    "import re\n",
    "import subprocess\n",
    "import seaborn as sns"
   ]
  },
  {
   "cell_type": "code",
   "execution_count": 2,
   "metadata": {},
   "outputs": [],
   "source": [
    "dataDir=\"./datasets/\"\n",
    "datasets=[\n",
    "    \"adult\",\n",
    "    \"airport\",\n",
    "    \"atom\",\n",
    "    \"CLASSIFICATION\",\n",
    "    \"flights\",\n",
    "    \"food\",\n",
    "    \"Hospital\",\n",
    "    \"inspection\",\n",
    "    \"ncvoter\",\n",
    "    \"SPStock\",\n",
    "    \"tax500k\",\n",
    "]"
   ]
  },
  {
   "cell_type": "code",
   "execution_count": 3,
   "metadata": {},
   "outputs": [],
   "source": [
    "JARDir=\"./algorithmJARs/\"\n",
    "algorithms=[\n",
    "    \"Hydra\",\n",
    "    \"DCFinder\",\n",
    "    \"ADCMiner\",\n",
    "    \"FastADC\",\n",
    "]"
   ]
  },
  {
   "cell_type": "markdown",
   "metadata": {},
   "source": [
    "# Code"
   ]
  },
  {
   "cell_type": "markdown",
   "metadata": {},
   "source": [
    "## Dataset"
   ]
  },
  {
   "cell_type": "code",
   "execution_count": 22,
   "metadata": {},
   "outputs": [],
   "source": [
    "class Dataset:\n",
    "    def __init__(self,file,**args):\n",
    "        self.columns=pd.read_csv(file,nrows=0).columns\n",
    "        self.header=[re.match(r'([^\\(\\)]*)(?:\\(| )([^\\(\\)]*)\\)?',col) for col in self.columns]\n",
    "        self.names=[match[1] for match in self.header]\n",
    "        typeMap={'String':str,'Integer':float,'Int':float,'Double':float,'int':float,'str':str,'float':float}\n",
    "        self.types=[typeMap[match[2]] for match in self.header]\n",
    "        \n",
    "        self.df=pd.read_csv(file,dtype={col:type for col,type in zip(self.columns,self.types)},**args)\n",
    "        \n",
    "    def randRows(self,n):\n",
    "        ids=np.random.randint(0,len(self.df),n)\n",
    "        return self.df.iloc[ids]\n",
    "    def randFields(self,n):\n",
    "        return pd.DataFrame({col:dfs[col].iloc[list(np.random.randint(0,len(dfs),n))].values for dfs in [self.df] for col in dfs.columns})\n",
    "\n",
    "    def buildPLIs(self):\n",
    "        self.PLI= {col:self.df.groupby(by=col).groups for col in self.df}\n",
    "    def shuffle(self):\n",
    "        self.df=self.randFields(len(self.df))"
   ]
  },
  {
   "cell_type": "markdown",
   "metadata": {},
   "source": [
    "## DenialConstraintResult"
   ]
  },
  {
   "cell_type": "code",
   "execution_count": 7,
   "metadata": {},
   "outputs": [],
   "source": [
    "class Operator:\n",
    "    def __init__(self,func,expFunc) -> None:\n",
    "        self.func=func\n",
    "        self.expFunc=expFunc\n",
    "    def __call__(self,a,b):\n",
    "        return self.func(a,b)\n",
    "    def negate(self):\n",
    "        return Operator(operator.invert(self.func))\n",
    "    def expected(self,c1,c2):\n",
    "        return self.expFunc(c1,c2)\n",
    "    def __repr__(self) -> str:\n",
    "        return self.func.__name__\n",
    "    def __eq__(self, other: object) -> bool:\n",
    "        if isinstance(other, Operator):\n",
    "            return self.func==other.func\n",
    "        return False\n",
    "    def __hash__(self):\n",
    "        fields=(self.func)\n",
    "        hash_value = hash(fields)\n",
    "        return hash_value\n",
    "\n",
    "def eqExp(l,r):\n",
    "    vals,freqs=np.unique(l.values,return_counts=True)\n",
    "    probs=freqs/len(l)\n",
    "    return np.sum(probs**2)-1/len(l)\n",
    "   \n",
    "\n",
    "eq=Operator(operator.eq,eqExp)\n",
    "\n",
    "def neExp(l,r):\n",
    "    vals,freqs=np.unique(l.values,return_counts=True)\n",
    "    probs=freqs/len(l)\n",
    "    return 1-np.sum(probs**2)\n",
    "ne=Operator(operator.ne,neExp)\n",
    "\n",
    "def geExp(l,r):\n",
    "    vals,freqs=np.unique(l.values,return_counts=True)\n",
    "    probs=freqs/len(l)\n",
    "    cumProbs=np.cumsum(probs)\n",
    "    return np.sum(probs*(1-cumProbs+probs))-1/len(l)\n",
    "ge=Operator(operator.ge,geExp)\n",
    "\n",
    "def leExp(l,r):\n",
    "    vals,freqs=np.unique(l.values,return_counts=True)\n",
    "    probs=freqs/len(l)\n",
    "    cumProbs=np.cumsum(probs)\n",
    "    return np.sum(probs*(cumProbs))-1/len(l)\n",
    "le=Operator(operator.le,leExp)\n",
    "\n",
    "def gtExp(l,r):\n",
    "    vals,freqs=np.unique(l.values,return_counts=True)\n",
    "    probs=freqs/len(l)\n",
    "    cumProbs=np.cumsum(probs)\n",
    "    return np.sum(probs*(1-cumProbs))\n",
    "gt=Operator(operator.gt,gtExp)\n",
    "\n",
    "def ltExp(l,r):\n",
    "    vals,freqs=np.unique(l.values,return_counts=True)\n",
    "    probs=freqs/len(l)\n",
    "    cumProbs=np.cumsum(probs)\n",
    "    return np.sum(probs*(cumProbs-probs))\n",
    "lt=Operator(operator.lt,ltExp)\n",
    "operatorMap={\n",
    "    \"EQUAL\":eq,\n",
    "    \"UNEQUAL\":ne,\n",
    "    \"LESS_EQUAL\":le,\n",
    "    \"GREATER_EQUAL\":ge,\n",
    "    \"LESS\":lt,\n",
    "    \"GREATER\":gt\n",
    "}\n",
    "\n",
    "\n",
    "\n",
    "class Predicate:\n",
    "    def __init__(self,l:str,op:Operator,r:str) -> None:\n",
    "        self.l=l\n",
    "        self.r=r\n",
    "        self.op=op\n",
    "        self.exp=None\n",
    "    def eval(self,df,t0,t1):\n",
    "        return self.op(t0[self.l],t1[self.r])\n",
    "    def expected(self,df):\n",
    "        if self.exp is None:\n",
    "            self.exp=self.op.expected(df.df[self.l],None)\n",
    "        return self.exp\n",
    "            \n",
    "    \n",
    "    def __repr__(self) -> str:\n",
    "        return '\"'+self.l +'\" '+self.op.__repr__()+' \"'+self.r+'\"'\n",
    "    def __hash__(self):\n",
    "        fields=(self.l,self.r)\n",
    "        hash_value = hash(fields)\n",
    "        return hash_value\n",
    "\n",
    "    def __eq__(self, other):\n",
    "        if isinstance(other, Predicate):\n",
    "            sFields=(self.l,self.op,self.r)\n",
    "            oFields=(other.l,other.op,other.r)\n",
    "            return sFields==oFields\n",
    "        return False\n",
    "\n",
    "\n",
    "class DenialConstraint:\n",
    "    def __init__(self,preds) -> None:\n",
    "        self.preds=preds\n",
    "    def eval(self,df,t0,t1):\n",
    "        return sum([pred.eval(df,t0,t1) for pred in self.preds])\n",
    "    def coverage(self,df,t0s,t1s):\n",
    "        pos,neg=0,0\n",
    "        num=self.eval(df,t0s,t1s)\n",
    "        dclen=len(self.preds)\n",
    "        pos=(num==dclen).sum()\n",
    "        neg=(num<dclen).sum()\n",
    "\n",
    "                \n",
    "        return neg/(pos+neg)\n",
    "    def sampleCoverage(self,df,n=None):\n",
    "        nn=len(df.df)\n",
    "        if n is None:\n",
    "            n=nn**2\n",
    "        t0s = np.random.randint(0,len(df.df),n)\n",
    "        t1s = np.random.randint(0,len(df.df),n)\n",
    "        t1s=(t1s+(t1s==t0s)*np.random.randint(1,len(df.df),n))%len(df.df)\n",
    "        return self.coverage(df,t0s,t1s)\n",
    "    def expCoverage(self,df):\n",
    "        return 1-np.prod([pred.expected(df) for pred in self.preds])\n",
    "    def __repr__(self) -> str:\n",
    "        return \"![\"+\" & \".join([pred.__repr__() for pred in self.preds])+\"]\"\n",
    "\n",
    "\n",
    "class DenialConstraintSet:\n",
    "    def __init__(self,path,dataset,algorithm) -> None:        \n",
    "        self.predicates={}\n",
    "        opmap={\"==\":eq,\"<>\":ne,\">=\":ge,\"<=\":le,\">\":gt,\"<\":lt}\n",
    "        def getPred(c1,op,c2):\n",
    "            if (c1,c2,op) not in self.predicates:\n",
    "                self.predicates[(c1,c2,op)]=Predicate(c1,opmap[op],c2)\n",
    "            return self.predicates[(c1,c2,op)]\n",
    "        \n",
    "        self.DCs=[]\n",
    "        \n",
    "        with open(path) as f:\n",
    "            for line in f:\n",
    "                line=line.strip()[2:-1] #strip !(...)\n",
    "                preds=line.split('^')\n",
    "                regex=r't0\\.'+dataset+'\\.csv\\.([^=><]*)(==|<>|>=|<=|>|<)t1\\.'+dataset+'\\.csv\\.([^=><]*)'\n",
    "                if algorithm in ['ADCMiner','FastADC']:\n",
    "                    regex=r't0\\.([^=><]*) (==|<>|>=|<=|>|<) t1\\.([^=><]*)'\n",
    "                preds = [getPred(*re.match(regex,pred).groups()) for pred in preds]\n",
    "                self.DCs.append(DenialConstraint(preds))\n"
   ]
  },
  {
   "cell_type": "markdown",
   "metadata": {},
   "source": [
    "# Result generation"
   ]
  },
  {
   "cell_type": "markdown",
   "metadata": {},
   "source": [
    "## Discover DCs"
   ]
  },
  {
   "cell_type": "code",
   "execution_count": 49,
   "metadata": {},
   "outputs": [
    {
     "name": "stdout",
     "output_type": "stream",
     "text": [
      "RUN: DCFinder_adult_0.00\n"
     ]
    },
    {
     "name": "stderr",
     "output_type": "stream",
     "text": [
      "[main] INFO de.metanome.algorithms.dcfinder.input.Input - Time to build plis: 135\n",
      "[main] INFO de.metanome.algorithms.dcfinder.DCFinder - Error threshold: 0.0.\n",
      "[main] INFO de.metanome.algorithms.dcfinder.DCFinder - Discovering DCs with at most 0 violating tuple pairs.\n",
      "[main] INFO de.metanome.algorithms.dcfinder.evidenceset.builders.SplitReconstructEvidenceSetBuilder - First level chunks: 2\n",
      "[main] INFO de.metanome.algorithms.dcfinder.evidenceset.builders.SplitReconstructEvidenceSetBuilder - Available processors: 12\n",
      "[main] INFO de.metanome.algorithms.dcfinder.evidenceset.builders.SplitReconstructEvidenceSetBuilder - Building the Evidence Set...\n",
      "[main] INFO de.metanome.algorithms.dcfinder.setcover.partial.MinimalCoverSearch - Finding Minimal Covers for the Evidence Set...\n",
      "[main] INFO de.metanome.algorithms.dcfinder.setcover.partial.MinimalCoverSearch - Building denial constraints...\n"
     ]
    },
    {
     "name": "stdout",
     "output_type": "stream",
     "text": [
      "\n",
      "Lines written to file successfully!\n",
      "MOVE: DCFinder_adult_0.00\n",
      "RUN: DCFinder_adult_0.00000001\n"
     ]
    },
    {
     "name": "stderr",
     "output_type": "stream",
     "text": [
      "[main] INFO de.metanome.algorithms.dcfinder.input.Input - Time to build plis: 158\n",
      "[main] INFO de.metanome.algorithms.dcfinder.DCFinder - Error threshold: 1.0E-8.\n",
      "[main] INFO de.metanome.algorithms.dcfinder.DCFinder - Discovering DCs with at most 1 violating tuple pairs.\n",
      "[main] INFO de.metanome.algorithms.dcfinder.evidenceset.builders.SplitReconstructEvidenceSetBuilder - First level chunks: 2\n",
      "[main] INFO de.metanome.algorithms.dcfinder.evidenceset.builders.SplitReconstructEvidenceSetBuilder - Available processors: 12\n",
      "[main] INFO de.metanome.algorithms.dcfinder.evidenceset.builders.SplitReconstructEvidenceSetBuilder - Building the Evidence Set...\n",
      "[main] INFO de.metanome.algorithms.dcfinder.setcover.partial.MinimalCoverSearch - Finding Minimal Covers for the Evidence Set...\n",
      "[main] INFO de.metanome.algorithms.dcfinder.setcover.partial.MinimalCoverSearch - Building denial constraints...\n"
     ]
    },
    {
     "name": "stdout",
     "output_type": "stream",
     "text": [
      "\n",
      "Lines written to file successfully!\n",
      "MOVE: DCFinder_adult_0.00000001\n",
      "RUN: DCFinder_adult_0.000001\n"
     ]
    },
    {
     "name": "stderr",
     "output_type": "stream",
     "text": [
      "[main] INFO de.metanome.algorithms.dcfinder.input.Input - Time to build plis: 152\n",
      "[main] INFO de.metanome.algorithms.dcfinder.DCFinder - Error threshold: 1.0E-6.\n",
      "[main] INFO de.metanome.algorithms.dcfinder.DCFinder - Discovering DCs with at most 100 violating tuple pairs.\n",
      "[main] INFO de.metanome.algorithms.dcfinder.evidenceset.builders.SplitReconstructEvidenceSetBuilder - First level chunks: 2\n",
      "[main] INFO de.metanome.algorithms.dcfinder.evidenceset.builders.SplitReconstructEvidenceSetBuilder - Available processors: 12\n",
      "[main] INFO de.metanome.algorithms.dcfinder.evidenceset.builders.SplitReconstructEvidenceSetBuilder - Building the Evidence Set...\n",
      "[main] INFO de.metanome.algorithms.dcfinder.setcover.partial.MinimalCoverSearch - Finding Minimal Covers for the Evidence Set...\n",
      "[main] INFO de.metanome.algorithms.dcfinder.setcover.partial.MinimalCoverSearch - Building denial constraints...\n"
     ]
    },
    {
     "name": "stdout",
     "output_type": "stream",
     "text": [
      "\n",
      "Lines written to file successfully!\n",
      "MOVE: DCFinder_adult_0.000001\n",
      "RUN: DCFinder_adult_0.0001\n"
     ]
    },
    {
     "name": "stderr",
     "output_type": "stream",
     "text": [
      "[main] INFO de.metanome.algorithms.dcfinder.input.Input - Time to build plis: 138\n",
      "[main] INFO de.metanome.algorithms.dcfinder.DCFinder - Error threshold: 1.0E-4.\n",
      "[main] INFO de.metanome.algorithms.dcfinder.DCFinder - Discovering DCs with at most 9999 violating tuple pairs.\n",
      "[main] INFO de.metanome.algorithms.dcfinder.evidenceset.builders.SplitReconstructEvidenceSetBuilder - First level chunks: 2\n",
      "[main] INFO de.metanome.algorithms.dcfinder.evidenceset.builders.SplitReconstructEvidenceSetBuilder - Available processors: 12\n",
      "[main] INFO de.metanome.algorithms.dcfinder.evidenceset.builders.SplitReconstructEvidenceSetBuilder - Building the Evidence Set...\n",
      "[main] INFO de.metanome.algorithms.dcfinder.setcover.partial.MinimalCoverSearch - Finding Minimal Covers for the Evidence Set...\n",
      "[main] INFO de.metanome.algorithms.dcfinder.setcover.partial.MinimalCoverSearch - Building denial constraints...\n"
     ]
    },
    {
     "name": "stdout",
     "output_type": "stream",
     "text": [
      "\n",
      "Lines written to file successfully!\n",
      "MOVE: DCFinder_adult_0.0001\n",
      "RUN: DCFinder_adult_0.01\n"
     ]
    },
    {
     "name": "stderr",
     "output_type": "stream",
     "text": [
      "[main] INFO de.metanome.algorithms.dcfinder.input.Input - Time to build plis: 137\n",
      "[main] INFO de.metanome.algorithms.dcfinder.DCFinder - Error threshold: 0.01.\n",
      "[main] INFO de.metanome.algorithms.dcfinder.DCFinder - Discovering DCs with at most 999900 violating tuple pairs.\n",
      "[main] INFO de.metanome.algorithms.dcfinder.evidenceset.builders.SplitReconstructEvidenceSetBuilder - First level chunks: 2\n",
      "[main] INFO de.metanome.algorithms.dcfinder.evidenceset.builders.SplitReconstructEvidenceSetBuilder - Available processors: 12\n",
      "[main] INFO de.metanome.algorithms.dcfinder.evidenceset.builders.SplitReconstructEvidenceSetBuilder - Building the Evidence Set...\n",
      "[main] INFO de.metanome.algorithms.dcfinder.setcover.partial.MinimalCoverSearch - Finding Minimal Covers for the Evidence Set...\n",
      "[main] INFO de.metanome.algorithms.dcfinder.setcover.partial.MinimalCoverSearch - Building denial constraints...\n"
     ]
    },
    {
     "name": "stdout",
     "output_type": "stream",
     "text": [
      "\n",
      "Lines written to file successfully!\n",
      "MOVE: DCFinder_adult_0.01\n",
      "RUN: Hydra_adult_0.00\n",
      "12:47:48.334 [main] INFO  d.h.n.dc.algorithms.hybrid.Hydra - Building approximate evidence set...\n",
      "12:47:48.563 [main] INFO  d.h.n.dc.algorithms.hybrid.Hydra - Estimation size systematic sampling:2418\n",
      "12:47:48.580 [main] INFO  d.h.n.d.e.b.s.ColumnAwareEvidenceSetBuilder - Sampling column age(Integer)\n",
      "12:47:48.698 [main] INFO  d.h.n.d.e.b.s.ColumnAwareEvidenceSetBuilder - Sampling column workclass(String)\n",
      "12:47:48.743 [main] INFO  d.h.n.d.e.b.s.ColumnAwareEvidenceSetBuilder - Sampling column fnlwgt(Integer)\n",
      "12:47:48.818 [main] INFO  d.h.n.d.e.b.s.ColumnAwareEvidenceSetBuilder - Sampling column education(String)\n",
      "12:47:48.848 [main] INFO  d.h.n.d.e.b.s.ColumnAwareEvidenceSetBuilder - Sampling column Marital-status(String)\n",
      "12:47:48.869 [main] INFO  d.h.n.d.e.b.s.ColumnAwareEvidenceSetBuilder - Sampling column occupation(String)\n",
      "12:47:48.889 [main] INFO  d.h.n.d.e.b.s.ColumnAwareEvidenceSetBuilder - Sampling column relationship(String)\n",
      "12:47:48.908 [main] INFO  d.h.n.d.e.b.s.ColumnAwareEvidenceSetBuilder - Sampling column race(String)\n",
      "12:47:48.929 [main] INFO  d.h.n.d.e.b.s.ColumnAwareEvidenceSetBuilder - Sampling column sex(String)\n",
      "12:47:48.951 [main] INFO  d.h.n.d.e.b.s.ColumnAwareEvidenceSetBuilder - Sampling column Native-country(String)\n",
      "12:47:48.998 [main] INFO  d.h.n.d.e.b.s.ColumnAwareEvidenceSetBuilder - Sampling column class(String)\n",
      "12:47:49.091 [main] INFO  d.h.n.dc.algorithms.hybrid.Hydra - Evidence set size deterministic sampler: 3190\n",
      "12:47:49.095 [main] INFO  d.h.n.d.c.PrefixMinimalCoverSearch - Evidence Set size: 3190\n",
      "12:47:49.107 [main] INFO  d.h.n.d.c.PrefixMinimalCoverSearch - Building new bitsets..\n",
      "12:47:49.109 [main] INFO  d.h.n.d.c.PrefixMinimalCoverSearch - Sorting new bitsets..\n",
      "12:47:49.119 [main] INFO  d.h.n.d.c.PrefixMinimalCoverSearch - starting inverting size 3190\n",
      "12:47:49.173 [main] INFO  d.h.n.d.c.PrefixMinimalCoverSearch - Finished sorting neg 2. list size:3190\n",
      "10007:49.199 [main] INFO  d.h.n.d.c.PrefixMinimalCoverSearch - \n",
      "20007:49.226 [main] INFO  d.h.n.d.c.PrefixMinimalCoverSearch - \n",
      "30007:49.252 [main] INFO  d.h.n.d.c.PrefixMinimalCoverSearch - \n",
      "12:47:49.276 [main] INFO  d.h.n.d.c.PrefixMinimalCoverSearch - 679\n",
      "12:47:49.276 [main] INFO  d.h.n.dc.algorithms.hybrid.Hydra - DC count approx:679\n",
      "12:47:49.424 [main] INFO  d.h.n.d.d.DenialConstraintSet - Sym size created 679\n",
      "12:47:49.497 [main] INFO  d.h.n.dc.algorithms.hybrid.Hydra - DC count approx after minimize:418\n",
      "12:47:49.501 [main] INFO  d.h.n.d.a.hybrid.ResultCompletion - Checking 418 DCs.\n",
      "12:47:49.502 [main] INFO  d.h.n.d.a.hybrid.ResultCompletion - Building selectivity estimation\n",
      "12:47:49.562 [main] INFO  d.h.n.d.a.hybrid.ResultCompletion - Grouping DCs..\n",
      "12:47:49.571 [main] INFO  d.h.n.d.a.hybrid.ResultCompletion - Calculating partitions..\n",
      "12:47:49.612 [main] INFO  de.hpi.naumann.dc.input.Input - rebuild: 35\n",
      "12:47:51.151 [main] INFO  d.h.n.d.c.PrefixMinimalCoverSearch - Evidence Set size: 3484\n",
      "12:47:51.154 [main] INFO  d.h.n.d.c.PrefixMinimalCoverSearch - Building new bitsets..\n",
      "12:47:51.156 [main] INFO  d.h.n.d.c.PrefixMinimalCoverSearch - Sorting new bitsets..\n",
      "12:47:51.159 [main] INFO  d.h.n.d.c.PrefixMinimalCoverSearch - starting inverting size 3484\n",
      "12:47:51.285 [main] INFO  d.h.n.d.c.PrefixMinimalCoverSearch - Finished sorting neg 2. list size:3484\n",
      "10007:51.297 [main] INFO  d.h.n.d.c.PrefixMinimalCoverSearch - \n",
      "20007:51.314 [main] INFO  d.h.n.d.c.PrefixMinimalCoverSearch - \n",
      "30007:51.323 [main] INFO  d.h.n.d.c.PrefixMinimalCoverSearch - \n",
      "12:47:51.333 [main] INFO  d.h.n.d.c.PrefixMinimalCoverSearch - 178\n",
      "12:47:51.356 [main] INFO  d.h.n.d.d.DenialConstraintSet - Sym size created 178\n",
      "\n",
      "Lines written to file successfully!\n",
      "MOVE: Hydra_adult_0.00\n"
     ]
    }
   ],
   "source": [
    "for dataset in [\"adult\"]:\n",
    "    for algorithm in [\"DCFinder\",\"Hydra\"]:\n",
    "        for aprox in [\"0.00\",\"0.00000001\",\"0.000001\",\"0.0001\",\"0.01\"] if algorithm!='Hydra' else [\"0.00\"]:\n",
    "            print(\"RUN: {}_{}_{}\".format(algorithm,dataset,aprox))\n",
    "            command='java -Xmx8g -jar {} {} {} 10000'.format(JARDir+algorithm+'.jar',dataDir+dataset+\".csv\",aprox)\n",
    "            result = subprocess.run(command, shell=True)\n",
    "            print(\"MOVE: {}_{}_{}\".format(algorithm,dataset,aprox))\n",
    "            command='mv output.txt results/{}_{}_{}'.format(algorithm,dataset,aprox)\n",
    "            result = subprocess.run(command, shell=True)"
   ]
  },
  {
   "cell_type": "markdown",
   "metadata": {},
   "source": [
    "## Compute support on random samples"
   ]
  },
  {
   "cell_type": "code",
   "execution_count": 105,
   "metadata": {},
   "outputs": [
    {
     "ename": "SyntaxError",
     "evalue": "non-default argument follows default argument (1145047152.py, line 7)",
     "output_type": "error",
     "traceback": [
      "\u001b[0;36m  File \u001b[0;32m\"/tmp/ipykernel_911/1145047152.py\"\u001b[0;36m, line \u001b[0;32m7\u001b[0m\n\u001b[0;31m    def plot_clustered_stacked(dfall, labels=None, axe,title=\"multiple stacked bar plot\",  H=\"/\", **kwargs):\u001b[0m\n\u001b[0m                               ^\u001b[0m\n\u001b[0;31mSyntaxError\u001b[0m\u001b[0;31m:\u001b[0m non-default argument follows default argument\n"
     ]
    }
   ],
   "source": [
    "#FROM: https://stackoverflow.com/questions/22787209/how-to-have-clusters-of-stacked-bars\n",
    "import pandas as pd\n",
    "import matplotlib.cm as cm\n",
    "import numpy as np\n",
    "import matplotlib.pyplot as plt\n",
    "\n",
    "def plot_clustered_stacked(dfall, labels=None, axe,title=\"multiple stacked bar plot\",  H=\"/\", **kwargs):\n",
    "    \"\"\"Given a list of dataframes, with identical columns and index, create a clustered stacked bar plot. \n",
    "labels is a list of the names of the dataframe, used for the legend\n",
    "title is a string for the title of the plot\n",
    "H is the hatch used for identification of the different dataframe\"\"\"\n",
    "\n",
    "    n_df = len(dfall)\n",
    "    n_col = len(dfall[0].columns) \n",
    "    n_ind = len(dfall[0].index)\n",
    "    \n",
    "\n",
    "    for df in dfall : # for each data frame\n",
    "        axe = df.plot(kind=\"bar\",\n",
    "                      linewidth=0,\n",
    "                      stacked=True,\n",
    "                      ax=axe,\n",
    "                      legend=False,\n",
    "                      grid=False,\n",
    "                      **kwargs)  # make bar plots\n",
    "\n",
    "    h,l = axe.get_legend_handles_labels() # get the handles we want to modify\n",
    "    for i in range(0, n_df * n_col, n_col): # len(h) = n_col * n_df\n",
    "        for j, pa in enumerate(h[i:i+n_col]):\n",
    "            for rect in pa.patches: # for each index\n",
    "                rect.set_x(rect.get_x() + 1 / float(n_df + 1) * i / float(n_col))\n",
    "                rect.set_hatch(H * int(i / n_col)) #edited part     \n",
    "                rect.set_width(0.9 / float(n_df + 1))\n",
    "\n",
    "    axe.set_xticks((np.arange(0, 2 * n_ind, 2) + 1 / float(n_df + 1)) / 2.)\n",
    "    axe.set_xticklabels(df.index, rotation = 0)\n",
    "    axe.set_title(title)\n",
    "\n",
    "    # Add invisible data to add another legend\n",
    "    n=[]        \n",
    "    for i in range(n_df):\n",
    "        n.append(axe.bar(0, 0, color=\"gray\", hatch=H * i))\n",
    "\n",
    "    l1 = axe.legend(h[:n_col], l[:n_col], loc=[1.01, 0.5])\n",
    "    if labels is not None:\n",
    "        l2 = plt.legend(n, labels, loc=[1.01, 0.1]) \n",
    "    axe.add_artist(l1)\n",
    "    return axe"
   ]
  },
  {
   "cell_type": "code",
   "execution_count": 92,
   "metadata": {},
   "outputs": [
    {
     "data": {
      "text/plain": [
       "<AxesSubplot:title={'center':'multiple stacked bar plot'}>"
      ]
     },
     "execution_count": 92,
     "metadata": {},
     "output_type": "execute_result"
    },
    {
     "data": {
      "image/png": "[encoded data removed]",
      "text/plain": [
       "<Figure size 432x288 with 1 Axes>"
      ]
     },
     "metadata": {
      "needs_background": "light"
     },
     "output_type": "display_data"
    }
   ],
   "source": [
    "# create fake dataframes\n",
    "df1 = pd.DataFrame(np.random.rand(4, 5),\n",
    "                   index=[\"A\", \"B\", \"C\", \"D\"],\n",
    "                   columns=[\"I\", \"J\", \"K\", \"L\", \"M\"])\n",
    "df2 = pd.DataFrame(np.random.rand(4, 5),\n",
    "                   index=[\"A\", \"B\", \"C\", \"D\"],\n",
    "                   columns=[\"I\", \"J\", \"K\", \"L\", \"M\"])\n",
    "df3 = pd.DataFrame(np.random.rand(4, 5),\n",
    "                   index=[\"A\", \"B\", \"C\", \"D\"], \n",
    "                   columns=[\"I\", \"J\", \"K\", \"L\", \"M\"])\n",
    "\n",
    "# Then, just call :\n",
    "plot_clustered_stacked([df1, df2, df3],[\"df1\", \"df2\", \"df3\"])\n",
    "    "
   ]
  },
  {
   "cell_type": "code",
   "execution_count": 23,
   "metadata": {},
   "outputs": [
    {
     "name": "stdout",
     "output_type": "stream",
     "text": [
      "adult\n",
      "airport\n",
      "atom\n",
      "CLASSIFICATION\n",
      "flights\n",
      "food\n",
      "Hospital\n",
      "inspection\n",
      "ncvoter\n",
      "SPStock\n",
      "tax500k\n"
     ]
    }
   ],
   "source": [
    "#load datasets\n",
    "dss={}\n",
    "for dataset in datasets:\n",
    "    print(dataset)\n",
    "    dss[dataset]=Dataset(dataDir+dataset+\".csv\",nrows=10000,encoding='unicode_escape')\n",
    "    dss[dataset].buildPLIs()"
   ]
  },
  {
   "cell_type": "code",
   "execution_count": 117,
   "metadata": {},
   "outputs": [
    {
     "name": "stdout",
     "output_type": "stream",
     "text": [
      "DCFinder_adult_0.00\n",
      "DCFinder_airport_0.00\n",
      "DCFinder_atom_0.00\n",
      "DCFinder_CLASSIFICATION_0.00\n",
      "DCFinder_flights_0.00\n",
      "DCFinder_food_0.00\n",
      "DCFinder_Hospital_0.00\n",
      "DCFinder_inspection_0.00\n"
     ]
    },
    {
     "ename": "KeyboardInterrupt",
     "evalue": "",
     "output_type": "error",
     "traceback": [
      "\u001b[0;31m---------------------------------------------------------------------------\u001b[0m",
      "\u001b[0;31mKeyboardInterrupt\u001b[0m                         Traceback (most recent call last)",
      "\u001b[0;32m/tmp/ipykernel_911/980737318.py\u001b[0m in \u001b[0;36m<module>\u001b[0;34m\u001b[0m\n\u001b[1;32m     13\u001b[0m             \u001b[0mres\u001b[0m\u001b[0;34m=\u001b[0m\u001b[0;34m[\u001b[0m\u001b[0;34m]\u001b[0m\u001b[0;34m\u001b[0m\u001b[0;34m\u001b[0m\u001b[0m\n\u001b[1;32m     14\u001b[0m             \u001b[0;32mfor\u001b[0m \u001b[0mdc\u001b[0m \u001b[0;32min\u001b[0m \u001b[0mdcs\u001b[0m\u001b[0;34m.\u001b[0m\u001b[0mDCs\u001b[0m\u001b[0;34m:\u001b[0m\u001b[0;34m\u001b[0m\u001b[0;34m\u001b[0m\u001b[0m\n\u001b[0;32m---> 15\u001b[0;31m                 \u001b[0msup\u001b[0m\u001b[0;34m=\u001b[0m\u001b[0mdc\u001b[0m\u001b[0;34m.\u001b[0m\u001b[0mcoverage\u001b[0m\u001b[0;34m(\u001b[0m\u001b[0mdcs\u001b[0m\u001b[0;34m,\u001b[0m\u001b[0mt0s\u001b[0m\u001b[0;34m,\u001b[0m\u001b[0mt1s\u001b[0m\u001b[0;34m)\u001b[0m\u001b[0;34m\u001b[0m\u001b[0;34m\u001b[0m\u001b[0m\n\u001b[0m\u001b[1;32m     16\u001b[0m                 \u001b[0mres\u001b[0m\u001b[0;34m.\u001b[0m\u001b[0mappend\u001b[0m\u001b[0;34m(\u001b[0m\u001b[0msup\u001b[0m\u001b[0;34m)\u001b[0m\u001b[0;34m\u001b[0m\u001b[0;34m\u001b[0m\u001b[0m\n\u001b[1;32m     17\u001b[0m             \u001b[0mresults\u001b[0m\u001b[0;34m[\u001b[0m\u001b[0;34m(\u001b[0m\u001b[0malgorithm\u001b[0m\u001b[0;34m,\u001b[0m\u001b[0mdataset\u001b[0m\u001b[0;34m,\u001b[0m\u001b[0maprox\u001b[0m\u001b[0;34m)\u001b[0m\u001b[0;34m]\u001b[0m\u001b[0;34m=\u001b[0m\u001b[0mres\u001b[0m\u001b[0;34m\u001b[0m\u001b[0;34m\u001b[0m\u001b[0m\n",
      "\u001b[0;32m/tmp/ipykernel_911/2765295741.py\u001b[0m in \u001b[0;36mcoverage\u001b[0;34m(self, df, t0s, t1s)\u001b[0m\n\u001b[1;32m    108\u001b[0m     \u001b[0;32mdef\u001b[0m \u001b[0mcoverage\u001b[0m\u001b[0;34m(\u001b[0m\u001b[0mself\u001b[0m\u001b[0;34m,\u001b[0m\u001b[0mdf\u001b[0m\u001b[0;34m,\u001b[0m\u001b[0mt0s\u001b[0m\u001b[0;34m,\u001b[0m\u001b[0mt1s\u001b[0m\u001b[0;34m)\u001b[0m\u001b[0;34m:\u001b[0m\u001b[0;34m\u001b[0m\u001b[0;34m\u001b[0m\u001b[0m\n\u001b[1;32m    109\u001b[0m         \u001b[0mpos\u001b[0m\u001b[0;34m,\u001b[0m\u001b[0mneg\u001b[0m\u001b[0;34m=\u001b[0m\u001b[0;36m0\u001b[0m\u001b[0;34m,\u001b[0m\u001b[0;36m0\u001b[0m\u001b[0;34m\u001b[0m\u001b[0;34m\u001b[0m\u001b[0m\n\u001b[0;32m--> 110\u001b[0;31m         \u001b[0mnum\u001b[0m\u001b[0;34m=\u001b[0m\u001b[0mself\u001b[0m\u001b[0;34m.\u001b[0m\u001b[0meval\u001b[0m\u001b[0;34m(\u001b[0m\u001b[0mdf\u001b[0m\u001b[0;34m,\u001b[0m\u001b[0mt0s\u001b[0m\u001b[0;34m,\u001b[0m\u001b[0mt1s\u001b[0m\u001b[0;34m)\u001b[0m\u001b[0;34m\u001b[0m\u001b[0;34m\u001b[0m\u001b[0m\n\u001b[0m\u001b[1;32m    111\u001b[0m         \u001b[0mdclen\u001b[0m\u001b[0;34m=\u001b[0m\u001b[0mlen\u001b[0m\u001b[0;34m(\u001b[0m\u001b[0mself\u001b[0m\u001b[0;34m.\u001b[0m\u001b[0mpreds\u001b[0m\u001b[0;34m)\u001b[0m\u001b[0;34m\u001b[0m\u001b[0;34m\u001b[0m\u001b[0m\n\u001b[1;32m    112\u001b[0m         \u001b[0mpos\u001b[0m\u001b[0;34m=\u001b[0m\u001b[0;34m(\u001b[0m\u001b[0mnum\u001b[0m\u001b[0;34m==\u001b[0m\u001b[0mdclen\u001b[0m\u001b[0;34m)\u001b[0m\u001b[0;34m.\u001b[0m\u001b[0msum\u001b[0m\u001b[0;34m(\u001b[0m\u001b[0;34m)\u001b[0m\u001b[0;34m\u001b[0m\u001b[0;34m\u001b[0m\u001b[0m\n",
      "\u001b[0;32m/tmp/ipykernel_911/2765295741.py\u001b[0m in \u001b[0;36meval\u001b[0;34m(self, df, t0, t1)\u001b[0m\n\u001b[1;32m    105\u001b[0m         \u001b[0mself\u001b[0m\u001b[0;34m.\u001b[0m\u001b[0mpreds\u001b[0m\u001b[0;34m=\u001b[0m\u001b[0mpreds\u001b[0m\u001b[0;34m\u001b[0m\u001b[0;34m\u001b[0m\u001b[0m\n\u001b[1;32m    106\u001b[0m     \u001b[0;32mdef\u001b[0m \u001b[0meval\u001b[0m\u001b[0;34m(\u001b[0m\u001b[0mself\u001b[0m\u001b[0;34m,\u001b[0m\u001b[0mdf\u001b[0m\u001b[0;34m,\u001b[0m\u001b[0mt0\u001b[0m\u001b[0;34m,\u001b[0m\u001b[0mt1\u001b[0m\u001b[0;34m)\u001b[0m\u001b[0;34m:\u001b[0m\u001b[0;34m\u001b[0m\u001b[0;34m\u001b[0m\u001b[0m\n\u001b[0;32m--> 107\u001b[0;31m         \u001b[0;32mreturn\u001b[0m \u001b[0msum\u001b[0m\u001b[0;34m(\u001b[0m\u001b[0;34m[\u001b[0m\u001b[0mpred\u001b[0m\u001b[0;34m.\u001b[0m\u001b[0meval\u001b[0m\u001b[0;34m(\u001b[0m\u001b[0mdf\u001b[0m\u001b[0;34m,\u001b[0m\u001b[0mt0\u001b[0m\u001b[0;34m,\u001b[0m\u001b[0mt1\u001b[0m\u001b[0;34m)\u001b[0m \u001b[0;32mfor\u001b[0m \u001b[0mpred\u001b[0m \u001b[0;32min\u001b[0m \u001b[0mself\u001b[0m\u001b[0;34m.\u001b[0m\u001b[0mpreds\u001b[0m\u001b[0;34m]\u001b[0m\u001b[0;34m)\u001b[0m\u001b[0;34m\u001b[0m\u001b[0;34m\u001b[0m\u001b[0m\n\u001b[0m\u001b[1;32m    108\u001b[0m     \u001b[0;32mdef\u001b[0m \u001b[0mcoverage\u001b[0m\u001b[0;34m(\u001b[0m\u001b[0mself\u001b[0m\u001b[0;34m,\u001b[0m\u001b[0mdf\u001b[0m\u001b[0;34m,\u001b[0m\u001b[0mt0s\u001b[0m\u001b[0;34m,\u001b[0m\u001b[0mt1s\u001b[0m\u001b[0;34m)\u001b[0m\u001b[0;34m:\u001b[0m\u001b[0;34m\u001b[0m\u001b[0;34m\u001b[0m\u001b[0m\n\u001b[1;32m    109\u001b[0m         \u001b[0mpos\u001b[0m\u001b[0;34m,\u001b[0m\u001b[0mneg\u001b[0m\u001b[0;34m=\u001b[0m\u001b[0;36m0\u001b[0m\u001b[0;34m,\u001b[0m\u001b[0;36m0\u001b[0m\u001b[0;34m\u001b[0m\u001b[0;34m\u001b[0m\u001b[0m\n",
      "\u001b[0;32m~/.local/lib/python3.8/site-packages/pandas/core/ops/common.py\u001b[0m in \u001b[0;36mnew_method\u001b[0;34m(self, other)\u001b[0m\n\u001b[1;32m     67\u001b[0m         \u001b[0mother\u001b[0m \u001b[0;34m=\u001b[0m \u001b[0mitem_from_zerodim\u001b[0m\u001b[0;34m(\u001b[0m\u001b[0mother\u001b[0m\u001b[0;34m)\u001b[0m\u001b[0;34m\u001b[0m\u001b[0;34m\u001b[0m\u001b[0m\n\u001b[1;32m     68\u001b[0m \u001b[0;34m\u001b[0m\u001b[0m\n\u001b[0;32m---> 69\u001b[0;31m         \u001b[0;32mreturn\u001b[0m \u001b[0mmethod\u001b[0m\u001b[0;34m(\u001b[0m\u001b[0mself\u001b[0m\u001b[0;34m,\u001b[0m \u001b[0mother\u001b[0m\u001b[0;34m)\u001b[0m\u001b[0;34m\u001b[0m\u001b[0;34m\u001b[0m\u001b[0m\n\u001b[0m\u001b[1;32m     70\u001b[0m \u001b[0;34m\u001b[0m\u001b[0m\n\u001b[1;32m     71\u001b[0m     \u001b[0;32mreturn\u001b[0m \u001b[0mnew_method\u001b[0m\u001b[0;34m\u001b[0m\u001b[0;34m\u001b[0m\u001b[0m\n",
      "\u001b[0;32m~/.local/lib/python3.8/site-packages/pandas/core/arraylike.py\u001b[0m in \u001b[0;36m__add__\u001b[0;34m(self, other)\u001b[0m\n\u001b[1;32m     90\u001b[0m     \u001b[0;34m@\u001b[0m\u001b[0munpack_zerodim_and_defer\u001b[0m\u001b[0;34m(\u001b[0m\u001b[0;34m\"__add__\"\u001b[0m\u001b[0;34m)\u001b[0m\u001b[0;34m\u001b[0m\u001b[0;34m\u001b[0m\u001b[0m\n\u001b[1;32m     91\u001b[0m     \u001b[0;32mdef\u001b[0m \u001b[0m__add__\u001b[0m\u001b[0;34m(\u001b[0m\u001b[0mself\u001b[0m\u001b[0;34m,\u001b[0m \u001b[0mother\u001b[0m\u001b[0;34m)\u001b[0m\u001b[0;34m:\u001b[0m\u001b[0;34m\u001b[0m\u001b[0;34m\u001b[0m\u001b[0m\n\u001b[0;32m---> 92\u001b[0;31m         \u001b[0;32mreturn\u001b[0m \u001b[0mself\u001b[0m\u001b[0;34m.\u001b[0m\u001b[0m_arith_method\u001b[0m\u001b[0;34m(\u001b[0m\u001b[0mother\u001b[0m\u001b[0;34m,\u001b[0m \u001b[0moperator\u001b[0m\u001b[0;34m.\u001b[0m\u001b[0madd\u001b[0m\u001b[0;34m)\u001b[0m\u001b[0;34m\u001b[0m\u001b[0;34m\u001b[0m\u001b[0m\n\u001b[0m\u001b[1;32m     93\u001b[0m \u001b[0;34m\u001b[0m\u001b[0m\n\u001b[1;32m     94\u001b[0m     \u001b[0;34m@\u001b[0m\u001b[0munpack_zerodim_and_defer\u001b[0m\u001b[0;34m(\u001b[0m\u001b[0;34m\"__radd__\"\u001b[0m\u001b[0;34m)\u001b[0m\u001b[0;34m\u001b[0m\u001b[0;34m\u001b[0m\u001b[0m\n",
      "\u001b[0;32m~/.local/lib/python3.8/site-packages/pandas/core/series.py\u001b[0m in \u001b[0;36m_arith_method\u001b[0;34m(self, other, op)\u001b[0m\n\u001b[1;32m   5526\u001b[0m             \u001b[0mresult\u001b[0m \u001b[0;34m=\u001b[0m \u001b[0mops\u001b[0m\u001b[0;34m.\u001b[0m\u001b[0marithmetic_op\u001b[0m\u001b[0;34m(\u001b[0m\u001b[0mlvalues\u001b[0m\u001b[0;34m,\u001b[0m \u001b[0mrvalues\u001b[0m\u001b[0;34m,\u001b[0m \u001b[0mop\u001b[0m\u001b[0;34m)\u001b[0m\u001b[0;34m\u001b[0m\u001b[0;34m\u001b[0m\u001b[0m\n\u001b[1;32m   5527\u001b[0m \u001b[0;34m\u001b[0m\u001b[0m\n\u001b[0;32m-> 5528\u001b[0;31m         \u001b[0;32mreturn\u001b[0m \u001b[0mself\u001b[0m\u001b[0;34m.\u001b[0m\u001b[0m_construct_result\u001b[0m\u001b[0;34m(\u001b[0m\u001b[0mresult\u001b[0m\u001b[0;34m,\u001b[0m \u001b[0mname\u001b[0m\u001b[0;34m=\u001b[0m\u001b[0mres_name\u001b[0m\u001b[0;34m)\u001b[0m\u001b[0;34m\u001b[0m\u001b[0;34m\u001b[0m\u001b[0m\n\u001b[0m\u001b[1;32m   5529\u001b[0m \u001b[0;34m\u001b[0m\u001b[0m\n\u001b[1;32m   5530\u001b[0m \u001b[0;34m\u001b[0m\u001b[0m\n",
      "\u001b[0;32m~/.local/lib/python3.8/site-packages/pandas/core/series.py\u001b[0m in \u001b[0;36m_construct_result\u001b[0;34m(self, result, name)\u001b[0m\n\u001b[1;32m   2943\u001b[0m         \u001b[0;31m# We do not pass dtype to ensure that the Series constructor\u001b[0m\u001b[0;34m\u001b[0m\u001b[0;34m\u001b[0m\u001b[0;34m\u001b[0m\u001b[0m\n\u001b[1;32m   2944\u001b[0m         \u001b[0;31m#  does inference in the case where `result` has object-dtype.\u001b[0m\u001b[0;34m\u001b[0m\u001b[0;34m\u001b[0m\u001b[0;34m\u001b[0m\u001b[0m\n\u001b[0;32m-> 2945\u001b[0;31m         \u001b[0mout\u001b[0m \u001b[0;34m=\u001b[0m \u001b[0mself\u001b[0m\u001b[0;34m.\u001b[0m\u001b[0m_constructor\u001b[0m\u001b[0;34m(\u001b[0m\u001b[0mresult\u001b[0m\u001b[0;34m,\u001b[0m \u001b[0mindex\u001b[0m\u001b[0;34m=\u001b[0m\u001b[0mself\u001b[0m\u001b[0;34m.\u001b[0m\u001b[0mindex\u001b[0m\u001b[0;34m)\u001b[0m\u001b[0;34m\u001b[0m\u001b[0;34m\u001b[0m\u001b[0m\n\u001b[0m\u001b[1;32m   2946\u001b[0m         \u001b[0mout\u001b[0m \u001b[0;34m=\u001b[0m \u001b[0mout\u001b[0m\u001b[0;34m.\u001b[0m\u001b[0m__finalize__\u001b[0m\u001b[0;34m(\u001b[0m\u001b[0mself\u001b[0m\u001b[0;34m)\u001b[0m\u001b[0;34m\u001b[0m\u001b[0;34m\u001b[0m\u001b[0m\n\u001b[1;32m   2947\u001b[0m \u001b[0;34m\u001b[0m\u001b[0m\n",
      "\u001b[0;32m~/.local/lib/python3.8/site-packages/pandas/core/series.py\u001b[0m in \u001b[0;36m__init__\u001b[0;34m(self, data, index, dtype, name, copy, fastpath)\u001b[0m\n\u001b[1;32m    445\u001b[0m                     \u001b[0mdata\u001b[0m \u001b[0;34m=\u001b[0m \u001b[0mSingleArrayManager\u001b[0m\u001b[0;34m.\u001b[0m\u001b[0mfrom_array\u001b[0m\u001b[0;34m(\u001b[0m\u001b[0mdata\u001b[0m\u001b[0;34m,\u001b[0m \u001b[0mindex\u001b[0m\u001b[0;34m)\u001b[0m\u001b[0;34m\u001b[0m\u001b[0;34m\u001b[0m\u001b[0m\n\u001b[1;32m    446\u001b[0m \u001b[0;34m\u001b[0m\u001b[0m\n\u001b[0;32m--> 447\u001b[0;31m         \u001b[0mgeneric\u001b[0m\u001b[0;34m.\u001b[0m\u001b[0mNDFrame\u001b[0m\u001b[0;34m.\u001b[0m\u001b[0m__init__\u001b[0m\u001b[0;34m(\u001b[0m\u001b[0mself\u001b[0m\u001b[0;34m,\u001b[0m \u001b[0mdata\u001b[0m\u001b[0;34m)\u001b[0m\u001b[0;34m\u001b[0m\u001b[0;34m\u001b[0m\u001b[0m\n\u001b[0m\u001b[1;32m    448\u001b[0m         \u001b[0mself\u001b[0m\u001b[0;34m.\u001b[0m\u001b[0mname\u001b[0m \u001b[0;34m=\u001b[0m \u001b[0mname\u001b[0m\u001b[0;34m\u001b[0m\u001b[0;34m\u001b[0m\u001b[0m\n\u001b[1;32m    449\u001b[0m         \u001b[0mself\u001b[0m\u001b[0;34m.\u001b[0m\u001b[0m_set_axis\u001b[0m\u001b[0;34m(\u001b[0m\u001b[0;36m0\u001b[0m\u001b[0;34m,\u001b[0m \u001b[0mindex\u001b[0m\u001b[0;34m,\u001b[0m \u001b[0mfastpath\u001b[0m\u001b[0;34m=\u001b[0m\u001b[0;32mTrue\u001b[0m\u001b[0;34m)\u001b[0m\u001b[0;34m\u001b[0m\u001b[0;34m\u001b[0m\u001b[0m\n",
      "\u001b[0;31mKeyboardInterrupt\u001b[0m: "
     ]
    }
   ],
   "source": [
    "results={}\n",
    "for algorithm in algorithms:\n",
    "    aproxs=[\"0.00\",\"0.00000001\",\"0.000001\",\"0.0001\",\"0.01\"] if algorithm!='Hydra' else [\"0.00\"]\n",
    "    for aprox in aproxs:\n",
    "        for dataset in datasets:\n",
    "            print(\"{}_{}_{}\".format(algorithm,dataset,aprox))\n",
    "            \n",
    "            dcs=DenialConstraintSet(\"results/{}_{}_{}\".format(algorithm,dataset,aprox),dataset,algorithm)\n",
    "            n=10000\n",
    "            \n",
    "            t0s=dss[dataset].randFields(n)\n",
    "            t1s=dss[dataset].randFields(n)\n",
    "            res=[]\n",
    "            for dc in dcs.DCs:\n",
    "                sup=dc.coverage(dcs,t0s,t1s)\n",
    "                res.append(sup)\n",
    "            results[(algorithm,dataset,aprox)]=res\n"
   ]
  },
  {
   "cell_type": "code",
   "execution_count": null,
   "metadata": {},
   "outputs": [],
   "source": [
    "for algorithm in algorithms[1:2]:\n",
    "    dfs=[]\n",
    "    aproxs=[\"0.00\",\"0.00000001\",\"0.000001\",\"0.0001\",\"0.01\"] if algorithm!='Hydra' else [\"0.00\"]\n",
    "    sups=np.array([0,1e-8,1e-6,1e-4,1e-2,0.1,0.2,0.3,0.4,0.5])\n",
    "    for aprox in aproxs:\n",
    "        df={}\n",
    "        for dataset in datasets:\n",
    "            res=results[(algorithm,dataset,aprox)]\n",
    "            \n",
    "\n",
    "            counts=np.zeros_like(sups)\n",
    "            for dc in dcs.DCs:\n",
    "                sup=dc.coverage(dcs,t0s,t1s)\n",
    "                counts+=1-sup<=sups\n",
    "            counts[1:]=counts[1:]-res[:-1]\n",
    "            \n",
    "            df[dataset]=counts/counts.sum()\n",
    "        dfs.append(pd.DataFrame(df,index=[sups]).transpose())"
   ]
  },
  {
   "cell_type": "code",
   "execution_count": 116,
   "metadata": {},
   "outputs": [
    {
     "data": {
      "text/plain": [
       "<AxesSubplot:title={'center':'AxesSubplot(0.125,0.518913;0.775x0.16413)'}>"
      ]
     },
     "execution_count": 116,
     "metadata": {},
     "output_type": "execute_result"
    },
    {
     "data": {
      "image/png": "[encoded data removed]",
      "text/plain": [
       "<Figure size 1080x288 with 1 Axes>"
      ]
     },
     "metadata": {
      "needs_background": "light"
     },
     "output_type": "display_data"
    }
   ],
   "source": [
    "fig,ax=plt.subplots(4,1)\n",
    "for i in range(1,2):\n",
    "    ax=plot_clustered_stacked(dfs,aproxs,ax[i],figsize=(15,4))\n",
    "ax\n"
   ]
  },
  {
   "cell_type": "code",
   "execution_count": 19,
   "metadata": {},
   "outputs": [
    {
     "data": {
      "text/plain": [
       "0.0"
      ]
     },
     "execution_count": 19,
     "metadata": {},
     "output_type": "execute_result"
    }
   ],
   "source": [
    "float(\"0.00\")"
   ]
  },
  {
   "cell_type": "code",
   "execution_count": 42,
   "metadata": {},
   "outputs": [],
   "source": [
    "df=pd.read_csv(\"datasets/tax500k.csv\")"
   ]
  },
  {
   "cell_type": "code",
   "execution_count": 45,
   "metadata": {},
   "outputs": [],
   "source": [
    "df=df.fillna(\"NaN\")"
   ]
  },
  {
   "cell_type": "code",
   "execution_count": 46,
   "metadata": {},
   "outputs": [],
   "source": [
    "df.to_csv(\"tax500k.csv\",index=False)"
   ]
  }
 ],
 "metadata": {
  "kernelspec": {
   "display_name": "Python 3",
   "language": "python",
   "name": "python3"
  },
  "language_info": {
   "codemirror_mode": {
    "name": "ipython",
    "version": 3
   },
   "file_extension": ".py",
   "mimetype": "text/x-python",
   "name": "python",
   "nbconvert_exporter": "python",
   "pygments_lexer": "ipython3",
   "version": "3.8.10"
  }
 },
 "nbformat": 4,
 "nbformat_minor": 2
}
