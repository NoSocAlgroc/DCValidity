{
 "cells": [
  {
   "cell_type": "code",
   "execution_count": 6,
   "metadata": {},
   "outputs": [],
   "source": [
    "import pandas as pd\n",
    "import numpy as np\n",
    "import json\n",
    "import operator\n",
    "import itertools \n",
    "import matplotlib.pyplot as plt\n",
    "import re\n",
    "import subprocess\n",
    "import seaborn as sns"
   ]
  },
  {
   "cell_type": "code",
   "execution_count": 108,
   "metadata": {},
   "outputs": [],
   "source": [
    "dataDir=\"./datasets/\"\n",
    "datasets=[\n",
    "    \"adult\",\n",
    "    \"airport\",\n",
    "    \"atom\",\n",
    "    \"CLASSIFICATION\",\n",
    "    \"flights\",\n",
    "    \"food\",\n",
    "    \"Hospital\",\n",
    "    \"inspection\",\n",
    "    \"ncvoter\",\n",
    "    \"SPStock\",\n",
    "    \"tax500k\",\n",
    "]"
   ]
  },
  {
   "cell_type": "code",
   "execution_count": 107,
   "metadata": {},
   "outputs": [],
   "source": [
    "JARDir=\"./algorithmJARs/\"\n",
    "algorithms=[\n",
    "    \"Hydra\",\n",
    "    \"DCFinder\",\n",
    "    \"ADCMiner\",\n",
    "    \"FastADC\",\n",
    "]"
   ]
  },
  {
   "cell_type": "markdown",
   "metadata": {},
   "source": [
    "# Code"
   ]
  },
  {
   "cell_type": "markdown",
   "metadata": {},
   "source": [
    "## Dataset"
   ]
  },
  {
   "cell_type": "code",
   "execution_count": 75,
   "metadata": {},
   "outputs": [],
   "source": [
    "class Dataset:\n",
    "    def __init__(self,file,**args):\n",
    "        self.columns=pd.read_csv(file,nrows=0).columns\n",
    "        self.header=[re.match(r'([^\\(\\)]*)(?:\\(| )([^\\(\\)]*)\\)?',col) for col in self.columns]\n",
    "        self.names=[match[1] for match in self.header]\n",
    "        typeMap={'String':str,'Integer':float,'Int':float,'Double':float,'int':float,'str':str,'float':float}\n",
    "        self.types=[typeMap[match[2]] for match in self.header]\n",
    "        \n",
    "        self.df=pd.read_csv(file,dtype={col:type for col,type in zip(self.columns,self.types)},**args)\n",
    "        \n",
    "    def randRows(self,n):\n",
    "        ids=np.random.randint(0,len(self.df),n)\n",
    "        return self.df.iloc[ids]\n",
    "    def randFields(self,n):\n",
    "        return pd.DataFrame({col:dfs[col].iloc[list(np.random.randint(0,len(dfs),n))].values for dfs in [self.df] for col in dfs.columns})\n",
    "\n",
    "    def buildPLIs(self):\n",
    "        self.PLI= {col:self.df.groupby(by=col).groups for col in self.df}\n",
    "    def shuffle(self):\n",
    "        self.df=self.randFields(len(self.df))"
   ]
  },
  {
   "cell_type": "markdown",
   "metadata": {},
   "source": [
    "## DenialConstraintResult"
   ]
  },
  {
   "cell_type": "code",
   "execution_count": 80,
   "metadata": {},
   "outputs": [],
   "source": [
    "class Operator:\n",
    "    def __init__(self,func,expFunc) -> None:\n",
    "        self.func=func\n",
    "        self.expFunc=expFunc\n",
    "    def __call__(self,a,b):\n",
    "        return self.func(a,b)\n",
    "    def negate(self):\n",
    "        return Operator(operator.invert(self.func))\n",
    "    def expected(self,c1,c2):\n",
    "        return self.expFunc(c1,c2)\n",
    "    def __repr__(self) -> str:\n",
    "        return self.func.__name__\n",
    "    def __eq__(self, other: object) -> bool:\n",
    "        if isinstance(other, Operator):\n",
    "            return self.func==other.func\n",
    "        return False\n",
    "    def __hash__(self):\n",
    "        fields=(self.func)\n",
    "        hash_value = hash(fields)\n",
    "        return hash_value\n",
    "\n",
    "def eqExp(l,r):\n",
    "    vals,freqs=np.unique(l.values,return_counts=True)\n",
    "    probs=freqs/len(l)\n",
    "    return np.sum(probs**2)-1/len(l)\n",
    "   \n",
    "\n",
    "eq=Operator(operator.eq,eqExp)\n",
    "\n",
    "def neExp(l,r):\n",
    "    vals,freqs=np.unique(l.values,return_counts=True)\n",
    "    probs=freqs/len(l)\n",
    "    return 1-np.sum(probs**2)\n",
    "ne=Operator(operator.ne,neExp)\n",
    "\n",
    "def geExp(l,r):\n",
    "    vals,freqs=np.unique(l.values,return_counts=True)\n",
    "    probs=freqs/len(l)\n",
    "    cumProbs=np.cumsum(probs)\n",
    "    return np.sum(probs*(1-cumProbs+probs))-1/len(l)\n",
    "ge=Operator(operator.ge,geExp)\n",
    "\n",
    "def leExp(l,r):\n",
    "    vals,freqs=np.unique(l.values,return_counts=True)\n",
    "    probs=freqs/len(l)\n",
    "    cumProbs=np.cumsum(probs)\n",
    "    return np.sum(probs*(cumProbs))-1/len(l)\n",
    "le=Operator(operator.le,leExp)\n",
    "\n",
    "def gtExp(l,r):\n",
    "    vals,freqs=np.unique(l.values,return_counts=True)\n",
    "    probs=freqs/len(l)\n",
    "    cumProbs=np.cumsum(probs)\n",
    "    return np.sum(probs*(1-cumProbs))\n",
    "gt=Operator(operator.gt,gtExp)\n",
    "\n",
    "def ltExp(l,r):\n",
    "    vals,freqs=np.unique(l.values,return_counts=True)\n",
    "    probs=freqs/len(l)\n",
    "    cumProbs=np.cumsum(probs)\n",
    "    return np.sum(probs*(cumProbs-probs))\n",
    "lt=Operator(operator.lt,ltExp)\n",
    "operatorMap={\n",
    "    \"EQUAL\":eq,\n",
    "    \"UNEQUAL\":ne,\n",
    "    \"LESS_EQUAL\":le,\n",
    "    \"GREATER_EQUAL\":ge,\n",
    "    \"LESS\":lt,\n",
    "    \"GREATER\":gt\n",
    "}\n",
    "\n",
    "\n",
    "\n",
    "class Predicate:\n",
    "    def __init__(self,l:str,op:Operator,r:str) -> None:\n",
    "        self.l=l\n",
    "        self.r=r\n",
    "        self.op=op\n",
    "        self.exp=None\n",
    "    def eval(self,df,t0,t1):\n",
    "        return self.op(t0[self.l],t1[self.r])\n",
    "    def expected(self,df):\n",
    "        if self.exp is None:\n",
    "            self.exp=self.op.expected(df.df[self.l],None)\n",
    "        return self.exp\n",
    "            \n",
    "    \n",
    "    def __repr__(self) -> str:\n",
    "        return '\"'+self.l +'\" '+self.op.__repr__()+' \"'+self.r+'\"'\n",
    "    def __hash__(self):\n",
    "        fields=(self.l,self.r)\n",
    "        hash_value = hash(fields)\n",
    "        return hash_value\n",
    "\n",
    "    def __eq__(self, other):\n",
    "        if isinstance(other, Predicate):\n",
    "            sFields=(self.l,self.op,self.r)\n",
    "            oFields=(other.l,other.op,other.r)\n",
    "            return sFields==oFields\n",
    "        return False\n",
    "\n",
    "\n",
    "class DenialConstraint:\n",
    "    def __init__(self,preds) -> None:\n",
    "        self.preds=preds\n",
    "    def eval(self,df,t0,t1):\n",
    "        return sum([pred.eval(df,t0,t1) for pred in self.preds])\n",
    "    def coverage(self,df,t0s,t1s):\n",
    "        pos,neg=0,0\n",
    "        num=self.eval(df,t0s,t1s)\n",
    "        dclen=len(self.preds)\n",
    "        pos=(num==dclen).sum()\n",
    "        neg=(num<dclen).sum()\n",
    "\n",
    "                \n",
    "        return neg/(pos+neg)\n",
    "    def sampleCoverage(self,df,n=None):\n",
    "        nn=len(df.df)\n",
    "        if n is None:\n",
    "            n=nn**2\n",
    "        t0s = np.random.randint(0,len(df.df),n)\n",
    "        t1s = np.random.randint(0,len(df.df),n)\n",
    "        t1s=(t1s+(t1s==t0s)*np.random.randint(1,len(df.df),n))%len(df.df)\n",
    "        return self.coverage(df,t0s,t1s)\n",
    "    def expCoverage(self,df):\n",
    "        return 1-np.prod([pred.expected(df) for pred in self.preds])\n",
    "    def __repr__(self) -> str:\n",
    "        return \"![\"+\" & \".join([pred.__repr__() for pred in self.preds])+\"]\"\n",
    "\n",
    "\n",
    "class DenialConstraintSet:\n",
    "    def __init__(self,path,dataset,algorithm) -> None:        \n",
    "        self.predicates={}\n",
    "        opmap={\"==\":eq,\"<>\":ne,\">=\":ge,\"<=\":le,\">\":gt,\"<\":lt}\n",
    "        def getPred(c1,op,c2):\n",
    "            if (c1,c2,op) not in self.predicates:\n",
    "                self.predicates[(c1,c2,op)]=Predicate(c1,opmap[op],c2)\n",
    "            return self.predicates[(c1,c2,op)]\n",
    "        \n",
    "        self.DCs=[]\n",
    "        \n",
    "        with open(path) as f:\n",
    "            for line in f:\n",
    "                line=line.strip()[2:-1] #strip !(...)\n",
    "                preds=line.split('^')\n",
    "                regex=r't0\\.'+dataset+'\\.csv\\.([^=><]*)(==|<>|>=|<=|>|<)t1\\.'+dataset+'\\.csv\\.([^=><]*)'\n",
    "                if algorithm in ['ADCMiner','FastADC']:\n",
    "                    regex=r't0\\.([^=><]*) (==|<>|>=|<=|>|<) t1\\.([^=><]*)'\n",
    "                preds = [getPred(*re.match(regex,pred).groups()) for pred in preds]\n",
    "                self.DCs.append(DenialConstraint(preds))\n"
   ]
  },
  {
   "cell_type": "markdown",
   "metadata": {},
   "source": [
    "# Result generation"
   ]
  },
  {
   "cell_type": "markdown",
   "metadata": {},
   "source": [
    "## Discover DCs"
   ]
  },
  {
   "cell_type": "code",
   "execution_count": 49,
   "metadata": {},
   "outputs": [
    {
     "name": "stdout",
     "output_type": "stream",
     "text": [
      "RUN: DCFinder_adult_0.00\n"
     ]
    },
    {
     "name": "stderr",
     "output_type": "stream",
     "text": [
      "[main] INFO de.metanome.algorithms.dcfinder.input.Input - Time to build plis: 135\n",
      "[main] INFO de.metanome.algorithms.dcfinder.DCFinder - Error threshold: 0.0.\n",
      "[main] INFO de.metanome.algorithms.dcfinder.DCFinder - Discovering DCs with at most 0 violating tuple pairs.\n",
      "[main] INFO de.metanome.algorithms.dcfinder.evidenceset.builders.SplitReconstructEvidenceSetBuilder - First level chunks: 2\n",
      "[main] INFO de.metanome.algorithms.dcfinder.evidenceset.builders.SplitReconstructEvidenceSetBuilder - Available processors: 12\n",
      "[main] INFO de.metanome.algorithms.dcfinder.evidenceset.builders.SplitReconstructEvidenceSetBuilder - Building the Evidence Set...\n",
      "[main] INFO de.metanome.algorithms.dcfinder.setcover.partial.MinimalCoverSearch - Finding Minimal Covers for the Evidence Set...\n",
      "[main] INFO de.metanome.algorithms.dcfinder.setcover.partial.MinimalCoverSearch - Building denial constraints...\n"
     ]
    },
    {
     "name": "stdout",
     "output_type": "stream",
     "text": [
      "\n",
      "Lines written to file successfully!\n",
      "MOVE: DCFinder_adult_0.00\n",
      "RUN: DCFinder_adult_0.00000001\n"
     ]
    },
    {
     "name": "stderr",
     "output_type": "stream",
     "text": [
      "[main] INFO de.metanome.algorithms.dcfinder.input.Input - Time to build plis: 158\n",
      "[main] INFO de.metanome.algorithms.dcfinder.DCFinder - Error threshold: 1.0E-8.\n",
      "[main] INFO de.metanome.algorithms.dcfinder.DCFinder - Discovering DCs with at most 1 violating tuple pairs.\n",
      "[main] INFO de.metanome.algorithms.dcfinder.evidenceset.builders.SplitReconstructEvidenceSetBuilder - First level chunks: 2\n",
      "[main] INFO de.metanome.algorithms.dcfinder.evidenceset.builders.SplitReconstructEvidenceSetBuilder - Available processors: 12\n",
      "[main] INFO de.metanome.algorithms.dcfinder.evidenceset.builders.SplitReconstructEvidenceSetBuilder - Building the Evidence Set...\n",
      "[main] INFO de.metanome.algorithms.dcfinder.setcover.partial.MinimalCoverSearch - Finding Minimal Covers for the Evidence Set...\n",
      "[main] INFO de.metanome.algorithms.dcfinder.setcover.partial.MinimalCoverSearch - Building denial constraints...\n"
     ]
    },
    {
     "name": "stdout",
     "output_type": "stream",
     "text": [
      "\n",
      "Lines written to file successfully!\n",
      "MOVE: DCFinder_adult_0.00000001\n",
      "RUN: DCFinder_adult_0.000001\n"
     ]
    },
    {
     "name": "stderr",
     "output_type": "stream",
     "text": [
      "[main] INFO de.metanome.algorithms.dcfinder.input.Input - Time to build plis: 152\n",
      "[main] INFO de.metanome.algorithms.dcfinder.DCFinder - Error threshold: 1.0E-6.\n",
      "[main] INFO de.metanome.algorithms.dcfinder.DCFinder - Discovering DCs with at most 100 violating tuple pairs.\n",
      "[main] INFO de.metanome.algorithms.dcfinder.evidenceset.builders.SplitReconstructEvidenceSetBuilder - First level chunks: 2\n",
      "[main] INFO de.metanome.algorithms.dcfinder.evidenceset.builders.SplitReconstructEvidenceSetBuilder - Available processors: 12\n",
      "[main] INFO de.metanome.algorithms.dcfinder.evidenceset.builders.SplitReconstructEvidenceSetBuilder - Building the Evidence Set...\n",
      "[main] INFO de.metanome.algorithms.dcfinder.setcover.partial.MinimalCoverSearch - Finding Minimal Covers for the Evidence Set...\n",
      "[main] INFO de.metanome.algorithms.dcfinder.setcover.partial.MinimalCoverSearch - Building denial constraints...\n"
     ]
    },
    {
     "name": "stdout",
     "output_type": "stream",
     "text": [
      "\n",
      "Lines written to file successfully!\n",
      "MOVE: DCFinder_adult_0.000001\n",
      "RUN: DCFinder_adult_0.0001\n"
     ]
    },
    {
     "name": "stderr",
     "output_type": "stream",
     "text": [
      "[main] INFO de.metanome.algorithms.dcfinder.input.Input - Time to build plis: 138\n",
      "[main] INFO de.metanome.algorithms.dcfinder.DCFinder - Error threshold: 1.0E-4.\n",
      "[main] INFO de.metanome.algorithms.dcfinder.DCFinder - Discovering DCs with at most 9999 violating tuple pairs.\n",
      "[main] INFO de.metanome.algorithms.dcfinder.evidenceset.builders.SplitReconstructEvidenceSetBuilder - First level chunks: 2\n",
      "[main] INFO de.metanome.algorithms.dcfinder.evidenceset.builders.SplitReconstructEvidenceSetBuilder - Available processors: 12\n",
      "[main] INFO de.metanome.algorithms.dcfinder.evidenceset.builders.SplitReconstructEvidenceSetBuilder - Building the Evidence Set...\n",
      "[main] INFO de.metanome.algorithms.dcfinder.setcover.partial.MinimalCoverSearch - Finding Minimal Covers for the Evidence Set...\n",
      "[main] INFO de.metanome.algorithms.dcfinder.setcover.partial.MinimalCoverSearch - Building denial constraints...\n"
     ]
    },
    {
     "name": "stdout",
     "output_type": "stream",
     "text": [
      "\n",
      "Lines written to file successfully!\n",
      "MOVE: DCFinder_adult_0.0001\n",
      "RUN: DCFinder_adult_0.01\n"
     ]
    },
    {
     "name": "stderr",
     "output_type": "stream",
     "text": [
      "[main] INFO de.metanome.algorithms.dcfinder.input.Input - Time to build plis: 137\n",
      "[main] INFO de.metanome.algorithms.dcfinder.DCFinder - Error threshold: 0.01.\n",
      "[main] INFO de.metanome.algorithms.dcfinder.DCFinder - Discovering DCs with at most 999900 violating tuple pairs.\n",
      "[main] INFO de.metanome.algorithms.dcfinder.evidenceset.builders.SplitReconstructEvidenceSetBuilder - First level chunks: 2\n",
      "[main] INFO de.metanome.algorithms.dcfinder.evidenceset.builders.SplitReconstructEvidenceSetBuilder - Available processors: 12\n",
      "[main] INFO de.metanome.algorithms.dcfinder.evidenceset.builders.SplitReconstructEvidenceSetBuilder - Building the Evidence Set...\n",
      "[main] INFO de.metanome.algorithms.dcfinder.setcover.partial.MinimalCoverSearch - Finding Minimal Covers for the Evidence Set...\n",
      "[main] INFO de.metanome.algorithms.dcfinder.setcover.partial.MinimalCoverSearch - Building denial constraints...\n"
     ]
    },
    {
     "name": "stdout",
     "output_type": "stream",
     "text": [
      "\n",
      "Lines written to file successfully!\n",
      "MOVE: DCFinder_adult_0.01\n",
      "RUN: Hydra_adult_0.00\n",
      "12:47:48.334 [main] INFO  d.h.n.dc.algorithms.hybrid.Hydra - Building approximate evidence set...\n",
      "12:47:48.563 [main] INFO  d.h.n.dc.algorithms.hybrid.Hydra - Estimation size systematic sampling:2418\n",
      "12:47:48.580 [main] INFO  d.h.n.d.e.b.s.ColumnAwareEvidenceSetBuilder - Sampling column age(Integer)\n",
      "12:47:48.698 [main] INFO  d.h.n.d.e.b.s.ColumnAwareEvidenceSetBuilder - Sampling column workclass(String)\n",
      "12:47:48.743 [main] INFO  d.h.n.d.e.b.s.ColumnAwareEvidenceSetBuilder - Sampling column fnlwgt(Integer)\n",
      "12:47:48.818 [main] INFO  d.h.n.d.e.b.s.ColumnAwareEvidenceSetBuilder - Sampling column education(String)\n",
      "12:47:48.848 [main] INFO  d.h.n.d.e.b.s.ColumnAwareEvidenceSetBuilder - Sampling column Marital-status(String)\n",
      "12:47:48.869 [main] INFO  d.h.n.d.e.b.s.ColumnAwareEvidenceSetBuilder - Sampling column occupation(String)\n",
      "12:47:48.889 [main] INFO  d.h.n.d.e.b.s.ColumnAwareEvidenceSetBuilder - Sampling column relationship(String)\n",
      "12:47:48.908 [main] INFO  d.h.n.d.e.b.s.ColumnAwareEvidenceSetBuilder - Sampling column race(String)\n",
      "12:47:48.929 [main] INFO  d.h.n.d.e.b.s.ColumnAwareEvidenceSetBuilder - Sampling column sex(String)\n",
      "12:47:48.951 [main] INFO  d.h.n.d.e.b.s.ColumnAwareEvidenceSetBuilder - Sampling column Native-country(String)\n",
      "12:47:48.998 [main] INFO  d.h.n.d.e.b.s.ColumnAwareEvidenceSetBuilder - Sampling column class(String)\n",
      "12:47:49.091 [main] INFO  d.h.n.dc.algorithms.hybrid.Hydra - Evidence set size deterministic sampler: 3190\n",
      "12:47:49.095 [main] INFO  d.h.n.d.c.PrefixMinimalCoverSearch - Evidence Set size: 3190\n",
      "12:47:49.107 [main] INFO  d.h.n.d.c.PrefixMinimalCoverSearch - Building new bitsets..\n",
      "12:47:49.109 [main] INFO  d.h.n.d.c.PrefixMinimalCoverSearch - Sorting new bitsets..\n",
      "12:47:49.119 [main] INFO  d.h.n.d.c.PrefixMinimalCoverSearch - starting inverting size 3190\n",
      "12:47:49.173 [main] INFO  d.h.n.d.c.PrefixMinimalCoverSearch - Finished sorting neg 2. list size:3190\n",
      "10007:49.199 [main] INFO  d.h.n.d.c.PrefixMinimalCoverSearch - \n",
      "20007:49.226 [main] INFO  d.h.n.d.c.PrefixMinimalCoverSearch - \n",
      "30007:49.252 [main] INFO  d.h.n.d.c.PrefixMinimalCoverSearch - \n",
      "12:47:49.276 [main] INFO  d.h.n.d.c.PrefixMinimalCoverSearch - 679\n",
      "12:47:49.276 [main] INFO  d.h.n.dc.algorithms.hybrid.Hydra - DC count approx:679\n",
      "12:47:49.424 [main] INFO  d.h.n.d.d.DenialConstraintSet - Sym size created 679\n",
      "12:47:49.497 [main] INFO  d.h.n.dc.algorithms.hybrid.Hydra - DC count approx after minimize:418\n",
      "12:47:49.501 [main] INFO  d.h.n.d.a.hybrid.ResultCompletion - Checking 418 DCs.\n",
      "12:47:49.502 [main] INFO  d.h.n.d.a.hybrid.ResultCompletion - Building selectivity estimation\n",
      "12:47:49.562 [main] INFO  d.h.n.d.a.hybrid.ResultCompletion - Grouping DCs..\n",
      "12:47:49.571 [main] INFO  d.h.n.d.a.hybrid.ResultCompletion - Calculating partitions..\n",
      "12:47:49.612 [main] INFO  de.hpi.naumann.dc.input.Input - rebuild: 35\n",
      "12:47:51.151 [main] INFO  d.h.n.d.c.PrefixMinimalCoverSearch - Evidence Set size: 3484\n",
      "12:47:51.154 [main] INFO  d.h.n.d.c.PrefixMinimalCoverSearch - Building new bitsets..\n",
      "12:47:51.156 [main] INFO  d.h.n.d.c.PrefixMinimalCoverSearch - Sorting new bitsets..\n",
      "12:47:51.159 [main] INFO  d.h.n.d.c.PrefixMinimalCoverSearch - starting inverting size 3484\n",
      "12:47:51.285 [main] INFO  d.h.n.d.c.PrefixMinimalCoverSearch - Finished sorting neg 2. list size:3484\n",
      "10007:51.297 [main] INFO  d.h.n.d.c.PrefixMinimalCoverSearch - \n",
      "20007:51.314 [main] INFO  d.h.n.d.c.PrefixMinimalCoverSearch - \n",
      "30007:51.323 [main] INFO  d.h.n.d.c.PrefixMinimalCoverSearch - \n",
      "12:47:51.333 [main] INFO  d.h.n.d.c.PrefixMinimalCoverSearch - 178\n",
      "12:47:51.356 [main] INFO  d.h.n.d.d.DenialConstraintSet - Sym size created 178\n",
      "\n",
      "Lines written to file successfully!\n",
      "MOVE: Hydra_adult_0.00\n"
     ]
    }
   ],
   "source": [
    "for dataset in [\"adult\"]:\n",
    "    for algorithm in [\"DCFinder\",\"Hydra\"]:\n",
    "        for aprox in [\"0.00\",\"0.00000001\",\"0.000001\",\"0.0001\",\"0.01\"] if algorithm!='Hydra' else [\"0.00\"]:\n",
    "            print(\"RUN: {}_{}_{}\".format(algorithm,dataset,aprox))\n",
    "            command='java -Xmx8g -jar {} {} {} 10000'.format(JARDir+algorithm+'.jar',dataDir+dataset+\".csv\",aprox)\n",
    "            result = subprocess.run(command, shell=True)\n",
    "            print(\"MOVE: {}_{}_{}\".format(algorithm,dataset,aprox))\n",
    "            command='mv output.txt results/{}_{}_{}'.format(algorithm,dataset,aprox)\n",
    "            result = subprocess.run(command, shell=True)"
   ]
  },
  {
   "cell_type": "markdown",
   "metadata": {},
   "source": [
    "## Compute support on random samples"
   ]
  },
  {
   "cell_type": "code",
   "execution_count": 64,
   "metadata": {},
   "outputs": [],
   "source": [
    "#FROM: https://stackoverflow.com/questions/22787209/how-to-have-clusters-of-stacked-bars\n",
    "import pandas as pd\n",
    "import matplotlib.cm as cm\n",
    "import numpy as np\n",
    "import matplotlib.pyplot as plt\n",
    "\n",
    "def plot_clustered_stacked(dfall, axe,title,aproxs,sups,labels=None,  H=\"/\", **kwargs):\n",
    "    \"\"\"Given a list of dataframes, with identical columns and index, create a clustered stacked bar plot. \n",
    "labels is a list of the names of the dataframe, used for the legend\n",
    "title is a string for the title of the plot\n",
    "H is the hatch used for identification of the different dataframe\"\"\"\n",
    "\n",
    "    n_df = len(dfall)\n",
    "    n_col = len(dfall[0].columns) \n",
    "    n_ind = len(dfall[0].index)\n",
    "    \n",
    "\n",
    "    for df in dfall : # for each data frame\n",
    "        axe = df.plot(kind=\"bar\",\n",
    "                      linewidth=0,\n",
    "                      stacked=True,\n",
    "                      ax=axe,\n",
    "                      legend=False,\n",
    "                      grid=False,\n",
    "                      **kwargs)  # make bar plots\n",
    "\n",
    "    h,l = axe.get_legend_handles_labels() # get the handles we want to modify\n",
    "    for ii,i in enumerate(range(0, n_df * n_col, n_col)): # len(h) = n_col * n_df\n",
    "        for j, pa in enumerate(h[i:i+n_col]):\n",
    "            for rect in pa.patches: # for each index\n",
    "                rect.set_x(rect.get_x() + 1 / float(n_df + 1) * i / float(n_col))\n",
    "                rect.set_hatch(H if  sups[j]<=float(aproxs[ii]) else \"\") #edited part     \n",
    "                rect.set_width(0.9 / float(n_df + 1))\n",
    "\n",
    "    axe.set_xticks((np.arange(0, 2 * n_ind, 2) + 1 / float(n_df + 1)) / 2.)\n",
    "    axe.set_xticklabels(df.index, rotation = 0)\n",
    "    axe.set_title(title)\n",
    "\n",
    "    # Add invisible data to add another legend\n",
    "    n=[]        \n",
    "    for i in range(n_df):\n",
    "        n.append(axe.bar(0, 0, color=\"gray\", hatch=H * i))\n",
    "\n",
    "    l1 = axe.legend(h[:n_col], l[:n_col], loc=[1.01, 0.5])\n",
    "    if labels is not None:\n",
    "        l2 = plt.legend(n, labels, loc=[1.01, 0.1]) \n",
    "    axe.add_artist(l1)\n",
    "    return axe"
   ]
  },
  {
   "cell_type": "code",
   "execution_count": null,
   "metadata": {},
   "outputs": [],
   "source": [
    "# create fake dataframes\n",
    "df1 = pd.DataFrame(np.random.rand(4, 5),\n",
    "                   index=[\"A\", \"B\", \"C\", \"D\"],\n",
    "                   columns=[\"I\", \"J\", \"K\", \"L\", \"M\"])\n",
    "df2 = pd.DataFrame(np.random.rand(4, 5),\n",
    "                   index=[\"A\", \"B\", \"C\", \"D\"],\n",
    "                   columns=[\"I\", \"J\", \"K\", \"L\", \"M\"])\n",
    "df3 = pd.DataFrame(np.random.rand(4, 5),\n",
    "                   index=[\"A\", \"B\", \"C\", \"D\"], \n",
    "                   columns=[\"I\", \"J\", \"K\", \"L\", \"M\"])\n",
    "\n",
    "# Then, just call :\n",
    "plot_clustered_stacked([df1, df2, df3],[\"df1\", \"df2\", \"df3\"])\n",
    "    "
   ]
  },
  {
   "cell_type": "code",
   "execution_count": 76,
   "metadata": {},
   "outputs": [
    {
     "name": "stdout",
     "output_type": "stream",
     "text": [
      "adult\n",
      "airport\n",
      "atom\n",
      "CLASSIFICATION\n",
      "flights\n",
      "food\n",
      "Hospital\n",
      "inspection\n",
      "ncvoter\n",
      "SPStock\n",
      "tax500k\n"
     ]
    }
   ],
   "source": [
    "#load datasets\n",
    "dss={}\n",
    "for dataset in datasets:\n",
    "    print(dataset)\n",
    "    dss[dataset]=Dataset(dataDir+dataset+\".csv\",nrows=10000,encoding='unicode_escape')\n",
    "    dss[dataset].buildPLIs()"
   ]
  },
  {
   "cell_type": "code",
   "execution_count": 81,
   "metadata": {},
   "outputs": [
    {
     "name": "stdout",
     "output_type": "stream",
     "text": [
      "Hydra_atom_0.00\n"
     ]
    },
    {
     "ename": "KeyboardInterrupt",
     "evalue": "",
     "output_type": "error",
     "traceback": [
      "\u001b[0;31m---------------------------------------------------------------------------\u001b[0m",
      "\u001b[0;31mKeyboardInterrupt\u001b[0m                         Traceback (most recent call last)",
      "\u001b[0;32m/tmp/ipykernel_23296/113112361.py\u001b[0m in \u001b[0;36m<module>\u001b[0;34m\u001b[0m\n\u001b[1;32m     14\u001b[0m             \u001b[0;32mfor\u001b[0m \u001b[0mdc\u001b[0m \u001b[0;32min\u001b[0m \u001b[0mdcs\u001b[0m\u001b[0;34m.\u001b[0m\u001b[0mDCs\u001b[0m\u001b[0;34m:\u001b[0m\u001b[0;34m\u001b[0m\u001b[0;34m\u001b[0m\u001b[0m\n\u001b[1;32m     15\u001b[0m                 \u001b[0msup\u001b[0m\u001b[0;34m=\u001b[0m\u001b[0mdc\u001b[0m\u001b[0;34m.\u001b[0m\u001b[0mcoverage\u001b[0m\u001b[0;34m(\u001b[0m\u001b[0mdcs\u001b[0m\u001b[0;34m,\u001b[0m\u001b[0mt0s\u001b[0m\u001b[0;34m,\u001b[0m\u001b[0mt1s\u001b[0m\u001b[0;34m)\u001b[0m\u001b[0;34m\u001b[0m\u001b[0;34m\u001b[0m\u001b[0m\n\u001b[0;32m---> 16\u001b[0;31m                 \u001b[0mres\u001b[0m\u001b[0;34m.\u001b[0m\u001b[0mappend\u001b[0m\u001b[0;34m(\u001b[0m\u001b[0msup\u001b[0m\u001b[0;34m)\u001b[0m\u001b[0;34m\u001b[0m\u001b[0;34m\u001b[0m\u001b[0m\n\u001b[0m\u001b[1;32m     17\u001b[0m             \u001b[0mresults\u001b[0m\u001b[0;34m[\u001b[0m\u001b[0;34m(\u001b[0m\u001b[0malgorithm\u001b[0m\u001b[0;34m,\u001b[0m\u001b[0mdataset\u001b[0m\u001b[0;34m,\u001b[0m\u001b[0maprox\u001b[0m\u001b[0;34m)\u001b[0m\u001b[0;34m]\u001b[0m\u001b[0;34m=\u001b[0m\u001b[0mres\u001b[0m\u001b[0;34m\u001b[0m\u001b[0;34m\u001b[0m\u001b[0m\n",
      "\u001b[0;32m/tmp/ipykernel_23296/113112361.py\u001b[0m in \u001b[0;36m<module>\u001b[0;34m\u001b[0m\n\u001b[1;32m     14\u001b[0m             \u001b[0;32mfor\u001b[0m \u001b[0mdc\u001b[0m \u001b[0;32min\u001b[0m \u001b[0mdcs\u001b[0m\u001b[0;34m.\u001b[0m\u001b[0mDCs\u001b[0m\u001b[0;34m:\u001b[0m\u001b[0;34m\u001b[0m\u001b[0;34m\u001b[0m\u001b[0m\n\u001b[1;32m     15\u001b[0m                 \u001b[0msup\u001b[0m\u001b[0;34m=\u001b[0m\u001b[0mdc\u001b[0m\u001b[0;34m.\u001b[0m\u001b[0mcoverage\u001b[0m\u001b[0;34m(\u001b[0m\u001b[0mdcs\u001b[0m\u001b[0;34m,\u001b[0m\u001b[0mt0s\u001b[0m\u001b[0;34m,\u001b[0m\u001b[0mt1s\u001b[0m\u001b[0;34m)\u001b[0m\u001b[0;34m\u001b[0m\u001b[0;34m\u001b[0m\u001b[0m\n\u001b[0;32m---> 16\u001b[0;31m                 \u001b[0mres\u001b[0m\u001b[0;34m.\u001b[0m\u001b[0mappend\u001b[0m\u001b[0;34m(\u001b[0m\u001b[0msup\u001b[0m\u001b[0;34m)\u001b[0m\u001b[0;34m\u001b[0m\u001b[0;34m\u001b[0m\u001b[0m\n\u001b[0m\u001b[1;32m     17\u001b[0m             \u001b[0mresults\u001b[0m\u001b[0;34m[\u001b[0m\u001b[0;34m(\u001b[0m\u001b[0malgorithm\u001b[0m\u001b[0;34m,\u001b[0m\u001b[0mdataset\u001b[0m\u001b[0;34m,\u001b[0m\u001b[0maprox\u001b[0m\u001b[0;34m)\u001b[0m\u001b[0;34m]\u001b[0m\u001b[0;34m=\u001b[0m\u001b[0mres\u001b[0m\u001b[0;34m\u001b[0m\u001b[0;34m\u001b[0m\u001b[0m\n",
      "\u001b[0;32m_pydevd_bundle/pydevd_cython.pyx\u001b[0m in \u001b[0;36m_pydevd_bundle.pydevd_cython.SafeCallWrapper.__call__\u001b[0;34m()\u001b[0m\n",
      "\u001b[0;32m_pydevd_bundle/pydevd_cython.pyx\u001b[0m in \u001b[0;36m_pydevd_bundle.pydevd_cython.PyDBFrame.trace_dispatch\u001b[0;34m()\u001b[0m\n",
      "\u001b[0;32m_pydevd_bundle/pydevd_cython.pyx\u001b[0m in \u001b[0;36m_pydevd_bundle.pydevd_cython.PyDBFrame.trace_dispatch\u001b[0;34m()\u001b[0m\n",
      "\u001b[0;32m_pydevd_bundle/pydevd_cython.pyx\u001b[0m in \u001b[0;36m_pydevd_bundle.pydevd_cython.PyDBFrame.trace_dispatch\u001b[0;34m()\u001b[0m\n",
      "\u001b[0;32m_pydevd_bundle/pydevd_cython.pyx\u001b[0m in \u001b[0;36m_pydevd_bundle.pydevd_cython.PyDBFrame.do_wait_suspend\u001b[0;34m()\u001b[0m\n",
      "\u001b[0;32m/usr/local/lib/python3.8/dist-packages/debugpy/_vendored/pydevd/pydevd.py\u001b[0m in \u001b[0;36mdo_wait_suspend\u001b[0;34m(self, thread, frame, event, arg, exception_type)\u001b[0m\n\u001b[1;32m   1974\u001b[0m \u001b[0;34m\u001b[0m\u001b[0m\n\u001b[1;32m   1975\u001b[0m             \u001b[0;32mwith\u001b[0m \u001b[0mself\u001b[0m\u001b[0;34m.\u001b[0m\u001b[0m_threads_suspended_single_notification\u001b[0m\u001b[0;34m.\u001b[0m\u001b[0mnotify_thread_suspended\u001b[0m\u001b[0;34m(\u001b[0m\u001b[0mthread_id\u001b[0m\u001b[0;34m,\u001b[0m \u001b[0mstop_reason\u001b[0m\u001b[0;34m)\u001b[0m\u001b[0;34m:\u001b[0m\u001b[0;34m\u001b[0m\u001b[0;34m\u001b[0m\u001b[0m\n\u001b[0;32m-> 1976\u001b[0;31m                 \u001b[0mkeep_suspended\u001b[0m \u001b[0;34m=\u001b[0m \u001b[0mself\u001b[0m\u001b[0;34m.\u001b[0m\u001b[0m_do_wait_suspend\u001b[0m\u001b[0;34m(\u001b[0m\u001b[0mthread\u001b[0m\u001b[0;34m,\u001b[0m \u001b[0mframe\u001b[0m\u001b[0;34m,\u001b[0m \u001b[0mevent\u001b[0m\u001b[0;34m,\u001b[0m \u001b[0marg\u001b[0m\u001b[0;34m,\u001b[0m \u001b[0msuspend_type\u001b[0m\u001b[0;34m,\u001b[0m \u001b[0mfrom_this_thread\u001b[0m\u001b[0;34m,\u001b[0m \u001b[0mframes_tracker\u001b[0m\u001b[0;34m)\u001b[0m\u001b[0;34m\u001b[0m\u001b[0;34m\u001b[0m\u001b[0m\n\u001b[0m\u001b[1;32m   1977\u001b[0m \u001b[0;34m\u001b[0m\u001b[0m\n\u001b[1;32m   1978\u001b[0m         \u001b[0mframes_list\u001b[0m \u001b[0;34m=\u001b[0m \u001b[0;32mNone\u001b[0m\u001b[0;34m\u001b[0m\u001b[0;34m\u001b[0m\u001b[0m\n",
      "\u001b[0;32m/usr/local/lib/python3.8/dist-packages/debugpy/_vendored/pydevd/pydevd.py\u001b[0m in \u001b[0;36m_do_wait_suspend\u001b[0;34m(self, thread, frame, event, arg, suspend_type, from_this_thread, frames_tracker)\u001b[0m\n\u001b[1;32m   2009\u001b[0m \u001b[0;34m\u001b[0m\u001b[0m\n\u001b[1;32m   2010\u001b[0m             \u001b[0mself\u001b[0m\u001b[0;34m.\u001b[0m\u001b[0mprocess_internal_commands\u001b[0m\u001b[0;34m(\u001b[0m\u001b[0;34m)\u001b[0m\u001b[0;34m\u001b[0m\u001b[0;34m\u001b[0m\u001b[0m\n\u001b[0;32m-> 2011\u001b[0;31m             \u001b[0mtime\u001b[0m\u001b[0;34m.\u001b[0m\u001b[0msleep\u001b[0m\u001b[0;34m(\u001b[0m\u001b[0;36m0.01\u001b[0m\u001b[0;34m)\u001b[0m\u001b[0;34m\u001b[0m\u001b[0;34m\u001b[0m\u001b[0m\n\u001b[0m\u001b[1;32m   2012\u001b[0m \u001b[0;34m\u001b[0m\u001b[0m\n\u001b[1;32m   2013\u001b[0m         \u001b[0mself\u001b[0m\u001b[0;34m.\u001b[0m\u001b[0mcancel_async_evaluation\u001b[0m\u001b[0;34m(\u001b[0m\u001b[0mget_current_thread_id\u001b[0m\u001b[0;34m(\u001b[0m\u001b[0mthread\u001b[0m\u001b[0;34m)\u001b[0m\u001b[0;34m,\u001b[0m \u001b[0mstr\u001b[0m\u001b[0;34m(\u001b[0m\u001b[0mid\u001b[0m\u001b[0;34m(\u001b[0m\u001b[0mframe\u001b[0m\u001b[0;34m)\u001b[0m\u001b[0;34m)\u001b[0m\u001b[0;34m)\u001b[0m\u001b[0;34m\u001b[0m\u001b[0;34m\u001b[0m\u001b[0m\n",
      "\u001b[0;31mKeyboardInterrupt\u001b[0m: "
     ]
    }
   ],
   "source": [
    "results={}\n",
    "for algorithm in algorithms[:1]:\n",
    "    aproxs=[\"0.00\",\"0.00000001\",\"0.000001\",\"0.0001\",\"0.01\"] if algorithm!='Hydra' else [\"0.00\"]\n",
    "    for aprox in aproxs:\n",
    "        for dataset in [\"atom\"]:\n",
    "            print(\"{}_{}_{}\".format(algorithm,dataset,aprox))\n",
    "            \n",
    "            dcs=DenialConstraintSet(\"results/{}_{}_{}\".format(algorithm,dataset,aprox),dataset,algorithm)\n",
    "            n=10000\n",
    "            \n",
    "            t0s=dss[dataset].randFields(n)\n",
    "            t1s=dss[dataset].randFields(n)\n",
    "            res=[]\n",
    "            for dc in dcs.DCs:\n",
    "                sup=dc.coverage(dcs,t0s,t1s)\n",
    "                res.append(sup)\n",
    "            results[(algorithm,dataset,aprox)]=res\n"
   ]
  },
  {
   "cell_type": "code",
   "execution_count": 110,
   "metadata": {},
   "outputs": [],
   "source": [
    "import json\n",
    "with open(\"results/DCSups.json\") as f:\n",
    "    results=json.load(f)"
   ]
  },
  {
   "cell_type": "code",
   "execution_count": 111,
   "metadata": {},
   "outputs": [],
   "source": [
    "algDf={}\n",
    "for algorithm in algorithms:\n",
    "    dfs=[]\n",
    "    aproxs=[\"0.00\",\"0.00000001\",\"0.000001\",\"0.0001\",\"0.01\"] if algorithm!='Hydra' else [\"0.00\"]\n",
    "    sups=np.array([0,1e-4,1e-2,0.1,0.2,0.3])\n",
    "    for aprox in aproxs:\n",
    "        df={}\n",
    "        for dataset in datasets:\n",
    "            res=results[\"_\".join([algorithm,dataset,aprox])]\n",
    "            \n",
    "\n",
    "            counts=np.zeros_like(sups)\n",
    "            for sup in res:\n",
    "                sup=sup/0.9999\n",
    "                counts+=1-sup<=sups\n",
    "            counts[1:]=counts[1:]-counts[:-1]\n",
    "            \n",
    "            df[dataset]=counts/counts.sum()\n",
    "        dfs.append(pd.DataFrame(df,index=[sups]).transpose())\n",
    "    algDf[algorithm]=dfs"
   ]
  },
  {
   "cell_type": "code",
   "execution_count": 113,
   "metadata": {},
   "outputs": [
    {
     "data": {
      "text/plain": [
       "array([<AxesSubplot:title={'center':'Hydra'}>,\n",
       "       <AxesSubplot:title={'center':'DCFinder'}>,\n",
       "       <AxesSubplot:title={'center':'ADCMiner'}>,\n",
       "       <AxesSubplot:title={'center':'FastADC'}>], dtype=object)"
      ]
     },
     "execution_count": 113,
     "metadata": {},
     "output_type": "execute_result"
    },
    {
     "data": {
      "image/png": "[encoded data removed]",
      "text/plain": [
       "<Figure size 1152x1152 with 4 Axes>"
      ]
     },
     "metadata": {
      "needs_background": "light"
     },
     "output_type": "display_data"
    }
   ],
   "source": [
    "fig,ax=plt.subplots(4,1)\n",
    "for i,algorithm in enumerate(algorithms):\n",
    "    plot_clustered_stacked(algDf[algorithm],ax[i],algorithms[i],aproxs,sups,figsize=(16,16))\n",
    "ax\n"
   ]
  },
  {
   "cell_type": "code",
   "execution_count": 19,
   "metadata": {},
   "outputs": [
    {
     "data": {
      "text/plain": [
       "0.0"
      ]
     },
     "execution_count": 19,
     "metadata": {},
     "output_type": "execute_result"
    }
   ],
   "source": [
    "float(\"0.00\")"
   ]
  },
  {
   "cell_type": "code",
   "execution_count": 78,
   "metadata": {},
   "outputs": [
    {
     "name": "stdout",
     "output_type": "stream",
     "text": [
      "adult\n",
      "age(Integer)                71\n",
      "workclass(String)            9\n",
      "fnlwgt(Integer)           8507\n",
      "education(String)           16\n",
      "Marital-status(String)       7\n",
      "occupation(String)          15\n",
      "relationship(String)         6\n",
      "race(String)                 5\n",
      "sex(String)                  2\n",
      "Native-country(String)      41\n",
      "class(String)                2\n",
      "dtype: int64\n",
      "airport\n",
      "ident(String)           10000\n",
      "type(String)                6\n",
      "name(String)             9575\n",
      "elevation_ft(String)     2312\n",
      "continent(String)           1\n",
      "iso_country(String)         4\n",
      "iso_region(String)         54\n",
      "municipality(String)     5220\n",
      "gps_code(String)         9359\n",
      "local_code(String)       9403\n",
      "coordinates(String)      9999\n",
      "dtype: int64\n",
      "atom\n",
      "COL2(Integer)     120\n",
      "COL4(String)        6\n",
      "COL5(Integer)     301\n",
      "COL6(String)      113\n",
      "COL7(Integer)      14\n",
      "COL8(Integer)     153\n",
      "COL9(String)       22\n",
      "COL10(Integer)    145\n",
      "COL11(String)       5\n",
      "COL12(Integer)    138\n",
      "COL14(Integer)    122\n",
      "COL21(String)     114\n",
      "COL22(String)      22\n",
      "dtype: int64\n",
      "CLASSIFICATION\n",
      "1(String)    10000\n",
      "2(String)     4716\n",
      "3(String)     1865\n",
      "4(String)      577\n",
      "6(Int)           1\n",
      "7(Int)         204\n",
      "8(Int)         353\n",
      "9(Int)         577\n",
      "10(Int)       1225\n",
      "11(Int)       1744\n",
      "dtype: int64\n",
      "flights\n",
      "Year(Integer)                     1\n",
      "Quarter(Integer)                  1\n",
      "Month(Integer)                    2\n",
      "DayofMonth(Integer)              31\n",
      "DayOfWeek(Integer)                7\n",
      "FlightDate(String)               59\n",
      "UniqueCarrier(String)            15\n",
      "AirlineID(Integer)               15\n",
      "Carrier(String)                  15\n",
      "TailNum(String)                3660\n",
      "FlightNum(Integer)             4340\n",
      "OriginAirportID(Integer)        279\n",
      "OriginAirportSeqID(Integer)     279\n",
      "OriginCityMarketID(Integer)     257\n",
      "Origin(String)                  279\n",
      "OriginCityName(String)          274\n",
      "OriginState(String)              52\n",
      "OriginStateFips(Integer)         52\n",
      "OriginStateName(String)          52\n",
      "OriginWac(Integer)               52\n",
      "dtype: int64\n",
      "food\n",
      "fdc_id(Integer)                        10000\n",
      "brand_owner(String)                     1401\n",
      "brand_name(String)                         0\n",
      "subbrand_name(String)                      0\n",
      "gtin_upc(Integer)                       9996\n",
      "ingredients(String)                     8568\n",
      "not_a_significant_source_of(String)        0\n",
      "serving_size(Double)                     336\n",
      "serving_size_unit(String)                  2\n",
      "household_serving_fulltext(String)         0\n",
      "branded_food_category(String)            136\n",
      "data_source(String)                        2\n",
      "package_weight(String)                     0\n",
      "modified_date(String)                     67\n",
      "available_date(String)                     1\n",
      "market_country(String)                     1\n",
      "dtype: int64\n",
      "Hospital\n",
      "Provider Number(String)      404\n",
      "Hospital Name(String)        401\n",
      "City(String)                 293\n",
      "State(String)                  5\n",
      "ZIP Code(String)             373\n",
      "County Name(String)          158\n",
      "Phone Number(String)         403\n",
      "Hospital Type(String)          4\n",
      "Hospital Owner(String)         9\n",
      "Emergency Service(String)      2\n",
      "Condition(String)              5\n",
      "Measure Code(String)          28\n",
      "Measure Name(String)          28\n",
      "Sample(String)               704\n",
      "StateAvg(String)             140\n",
      "dtype: int64\n",
      "inspection\n",
      "Inspection ID(Integer)     10000\n",
      "DBA Name(String)            6766\n",
      "AKA Name(String)            6491\n",
      "License #(String)           7781\n",
      "Facility Type(String)        129\n",
      "Risk(String)                   4\n",
      "Address(String)             6165\n",
      "Zip(String)                   78\n",
      "Inspection Date(String)     1880\n",
      "Inspection Type(String)       24\n",
      "Results(String)                7\n",
      "Latitude(Double)            6019\n",
      "Longitude(Double)           6018\n",
      "dtype: int64\n",
      "ncvoter\n",
      "c1(String)          1\n",
      "c3(String)          5\n",
      "c4(String)          5\n",
      "c13(String)      9925\n",
      "c14(String)      9925\n",
      "c26(String)      6570\n",
      "c41(String)         7\n",
      "c42(String)         3\n",
      "c43(String)         3\n",
      "c44(String)         4\n",
      "c45(String)         4\n",
      "c48(Integer)       89\n",
      "c50(Integer)     4219\n",
      "c90(String)         4\n",
      "c91(String)     10000\n",
      "dtype: int64\n",
      "SPStock\n",
      "Date(String)        245\n",
      "Ticker(String)       44\n",
      "Open(Double)       5421\n",
      "High(Double)       5664\n",
      "Low(Double)        5643\n",
      "Close(Double)      5465\n",
      "Volume(Integer)    9464\n",
      "dtype: int64\n",
      "tax500k\n",
      "LName(String)            6313\n",
      "Gender(String)              2\n",
      "AreaCode(String)          268\n",
      "Phone(String)             212\n",
      "City(String)             5355\n",
      "State(String)              52\n",
      "Zip(String)              8260\n",
      "MaritalStatus(String)       2\n",
      "HasChild(String)            2\n",
      "Rate(Double)             1529\n",
      "SingleExemp(Integer)       28\n",
      "MarriedExemp(Integer)      28\n",
      "ChildExemp(Integer)        26\n",
      "dtype: int64\n"
     ]
    }
   ],
   "source": [
    "\n",
    "for dataset in datasets:\n",
    "    print(dataset)\n",
    "    print(dss[dataset].df.nunique())"
   ]
  },
  {
   "cell_type": "code",
   "execution_count": 105,
   "metadata": {},
   "outputs": [
    {
     "data": {
      "text/plain": [
       "0.8144367372782474"
      ]
     },
     "execution_count": 105,
     "metadata": {},
     "output_type": "execute_result"
    }
   ],
   "source": [
    "pred=dcs.DCs[0].preds[0]\n",
    "dcs.DCs[0].expCoverage(dss['atom'])"
   ]
  },
  {
   "cell_type": "code",
   "execution_count": null,
   "metadata": {},
   "outputs": [],
   "source": []
  },
  {
   "cell_type": "code",
   "execution_count": 95,
   "metadata": {},
   "outputs": [
    {
     "data": {
      "text/plain": [
       "23700.0    760\n",
       "24213.0    600\n",
       "15279.0    600\n",
       "23699.0    440\n",
       "24217.0    440\n",
       "          ... \n",
       "15235.0      1\n",
       "21647.0      1\n",
       "17100.0      1\n",
       "10676.0      1\n",
       "21596.0      1\n",
       "Name: COL10(Integer), Length: 145, dtype: int64"
      ]
     },
     "execution_count": 95,
     "metadata": {},
     "output_type": "execute_result"
    }
   ],
   "source": [
    "dss['atom'].df['COL10(Integer)'].value_counts()"
   ]
  },
  {
   "cell_type": "code",
   "execution_count": 45,
   "metadata": {},
   "outputs": [],
   "source": [
    "df=df.fillna(\"NaN\")"
   ]
  },
  {
   "cell_type": "code",
   "execution_count": 46,
   "metadata": {},
   "outputs": [],
   "source": [
    "df.to_csv(\"tax500k.csv\",index=False)"
   ]
  }
 ],
 "metadata": {
  "kernelspec": {
   "display_name": "Python 3",
   "language": "python",
   "name": "python3"
  },
  "language_info": {
   "codemirror_mode": {
    "name": "ipython",
    "version": 3
   },
   "file_extension": ".py",
   "mimetype": "text/x-python",
   "name": "python",
   "nbconvert_exporter": "python",
   "pygments_lexer": "ipython3",
   "version": "3.8.10"
  }
 },
 "nbformat": 4,
 "nbformat_minor": 2
}
